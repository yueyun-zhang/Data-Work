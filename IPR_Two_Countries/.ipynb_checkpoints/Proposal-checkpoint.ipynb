{
 "cells": [
  {
   "cell_type": "markdown",
   "id": "66b11ca5-935c-4c31-8d0c-94f20c06f33d",
   "metadata": {},
   "source": [
    "# Initial Exploration - IPR of Basic Research\n"
   ]
  },
  {
   "cell_type": "markdown",
   "id": "5984023c-b542-4ef1-9a8a-e286ff5a106d",
   "metadata": {},
   "source": [
    "The work is being supported by the Economic Research and the IP Analytics team at the Canadian Intellectual Property Office (CIPO).\n",
    "Some of the codes such as Derwent Database API is taken from their work."
   ]
  },
  {
   "cell_type": "markdown",
   "id": "c18d9b78-5427-4dae-9290-3eed2d1ec1c3",
   "metadata": {},
   "source": [
    "## Purpose\n",
    "The purpose of the proposed research is to o investigate the impact of retaining or not intellectual property rights (IPR) of basic research in one country on the dynamics of growth in a two-countries setup. In this initial exploration of the topic, the first part is to provide some suggestive empirical evidence about flow of basic research and diffusion in- and out- of Canada. The second part is to leverage simulation techniques to model the basic setup. "
   ]
  },
  {
   "cell_type": "markdown",
   "id": "5f95a26e-b3a4-45f9-be55-9e6c381faf5f",
   "metadata": {},
   "source": [
    "## Data Exploration"
   ]
  },
  {
   "cell_type": "code",
   "execution_count": 3,
   "id": "41fa2679-3dd3-4846-8920-6a09d553a360",
   "metadata": {},
   "outputs": [],
   "source": [
    "from derwent_api.tsip import SearchByQuery\n",
    "\n",
    "requester = SearchByQuery('ac=ca', ['an', 'pn'])"
   ]
  },
  {
   "cell_type": "code",
   "execution_count": 10,
   "id": "2a4bfb3b-0b5b-49ad-bc58-8030e4522eeb",
   "metadata": {},
   "outputs": [
    {
     "data": {
      "text/plain": [
       "9"
      ]
     },
     "execution_count": 10,
     "metadata": {},
     "output_type": "execute_result"
    }
   ],
   "source": [
    "len(dfs)"
   ]
  },
  {
   "cell_type": "code",
   "execution_count": 16,
   "id": "a9357c5f-29b5-462e-adc5-b056c0c07dbb",
   "metadata": {},
   "outputs": [
    {
     "name": "stdout",
     "output_type": "stream",
     "text": [
      "1347\n"
     ]
    },
    {
     "data": {
      "text/html": [
       "<div>\n",
       "<style scoped>\n",
       "    .dataframe tbody tr th:only-of-type {\n",
       "        vertical-align: middle;\n",
       "    }\n",
       "\n",
       "    .dataframe tbody tr th {\n",
       "        vertical-align: top;\n",
       "    }\n",
       "\n",
       "    .dataframe thead th {\n",
       "        text-align: right;\n",
       "    }\n",
       "</style>\n",
       "<table border=\"1\" class=\"dataframe\">\n",
       "  <thead>\n",
       "    <tr style=\"text-align: right;\">\n",
       "      <th></th>\n",
       "      <th>dunsnumber</th>\n",
       "      <th>recipient_name</th>\n",
       "      <th>recipient_state_code</th>\n",
       "      <th>recipient_county_name</th>\n",
       "      <th>recipient_city_name</th>\n",
       "      <th>receip_addr1</th>\n",
       "      <th>recipient_zip</th>\n",
       "      <th>recip_cat_type</th>\n",
       "      <th>receive_contract</th>\n",
       "    </tr>\n",
       "  </thead>\n",
       "  <tbody>\n",
       "    <tr>\n",
       "      <th>0</th>\n",
       "      <td>1004258</td>\n",
       "      <td>GUILD ASSOCIATES INC</td>\n",
       "      <td>OH</td>\n",
       "      <td>Franklin</td>\n",
       "      <td>DUBLIN</td>\n",
       "      <td>5750 SHIER RINGS</td>\n",
       "      <td>43016</td>\n",
       "      <td>f: For-Profit Organization</td>\n",
       "      <td>1</td>\n",
       "    </tr>\n",
       "    <tr>\n",
       "      <th>1</th>\n",
       "      <td>1016760</td>\n",
       "      <td>ADENOSINE THERAPEUTICS, LLC</td>\n",
       "      <td>VA</td>\n",
       "      <td>**CHARLOTTESVILLE</td>\n",
       "      <td>CHARLOTTESVILLE</td>\n",
       "      <td>PO BOX 4632</td>\n",
       "      <td>22905</td>\n",
       "      <td>o: Other</td>\n",
       "      <td>0</td>\n",
       "    </tr>\n",
       "    <tr>\n",
       "      <th>2</th>\n",
       "      <td>1030667</td>\n",
       "      <td>WARWICK MILLS  INC.</td>\n",
       "      <td>NH</td>\n",
       "      <td>HILLSBOROUGH</td>\n",
       "      <td>New Ipswich</td>\n",
       "      <td>301 Turnpike Road</td>\n",
       "      <td>030710409</td>\n",
       "      <td>f: For-Profit Organization</td>\n",
       "      <td>1</td>\n",
       "    </tr>\n",
       "  </tbody>\n",
       "</table>\n",
       "</div>"
      ],
      "text/plain": [
       "   dunsnumber               recipient_name recipient_state_code  \\\n",
       "0     1004258         GUILD ASSOCIATES INC                   OH   \n",
       "1     1016760  ADENOSINE THERAPEUTICS, LLC                   VA   \n",
       "2     1030667          WARWICK MILLS  INC.                   NH   \n",
       "\n",
       "  recipient_county_name recipient_city_name       receip_addr1 recipient_zip  \\\n",
       "0              Franklin              DUBLIN   5750 SHIER RINGS         43016   \n",
       "1     **CHARLOTTESVILLE     CHARLOTTESVILLE        PO BOX 4632         22905   \n",
       "2          HILLSBOROUGH         New Ipswich  301 Turnpike Road     030710409   \n",
       "\n",
       "               recip_cat_type  receive_contract  \n",
       "0  f: For-Profit Organization                 1  \n",
       "1                    o: Other                 0  \n",
       "2  f: For-Profit Organization                 1  "
      ]
     },
     "execution_count": 16,
     "metadata": {},
     "output_type": "execute_result"
    }
   ],
   "source": [
    "# Grantee_information\n",
    "\n",
    "print(len(dfs[0]))\n",
    "dfs[0].head(3)"
   ]
  },
  {
   "cell_type": "code",
   "execution_count": 17,
   "id": "aad128a8-b756-4430-aa4c-aee0b07a6260",
   "metadata": {},
   "outputs": [
    {
     "name": "stdout",
     "output_type": "stream",
     "text": [
      "16402\n"
     ]
    },
    {
     "data": {
      "text/html": [
       "<div>\n",
       "<style scoped>\n",
       "    .dataframe tbody tr th:only-of-type {\n",
       "        vertical-align: middle;\n",
       "    }\n",
       "\n",
       "    .dataframe tbody tr th {\n",
       "        vertical-align: top;\n",
       "    }\n",
       "\n",
       "    .dataframe thead th {\n",
       "        text-align: right;\n",
       "    }\n",
       "</style>\n",
       "<table border=\"1\" class=\"dataframe\">\n",
       "  <thead>\n",
       "    <tr style=\"text-align: right;\">\n",
       "      <th></th>\n",
       "      <th>piid</th>\n",
       "      <th>maj_agency_cat</th>\n",
       "      <th>agency_code</th>\n",
       "      <th>duns_no</th>\n",
       "      <th>cfda_program_num</th>\n",
       "      <th>cfda_program_title</th>\n",
       "      <th>assistance_type</th>\n",
       "      <th>project_description</th>\n",
       "      <th>start_date</th>\n",
       "      <th>end_date</th>\n",
       "      <th>last_modification_date</th>\n",
       "      <th>principal_place_state</th>\n",
       "      <th>principal_place_city</th>\n",
       "      <th>principal_place_zip</th>\n",
       "      <th>principal_place_cd</th>\n",
       "      <th>sbir</th>\n",
       "      <th>sttr</th>\n",
       "      <th>recovery</th>\n",
       "    </tr>\n",
       "  </thead>\n",
       "  <tbody>\n",
       "    <tr>\n",
       "      <th>0</th>\n",
       "      <td>0000000000501534</td>\n",
       "      <td>1200: AGRICULTURE, DEPARTMENT OF</td>\n",
       "      <td>12C3: NATURAL RESOURCES CONSERVATION SERVICE</td>\n",
       "      <td>809811776.0</td>\n",
       "      <td>10.902</td>\n",
       "      <td>Soil and Water Conservation</td>\n",
       "      <td>05: Cooperative agreement</td>\n",
       "      <td>CONSERVATION TECHNICAL ASSISTANCE</td>\n",
       "      <td>2009-11-10</td>\n",
       "      <td>2011-9-28</td>\n",
       "      <td>2011-9-28</td>\n",
       "      <td>UTAH</td>\n",
       "      <td>NaN</td>\n",
       "      <td>847201700</td>\n",
       "      <td>2.0</td>\n",
       "      <td>0</td>\n",
       "      <td>0</td>\n",
       "      <td>0</td>\n",
       "    </tr>\n",
       "    <tr>\n",
       "      <th>1</th>\n",
       "      <td>0000000000601622</td>\n",
       "      <td>1200: AGRICULTURE, DEPARTMENT OF</td>\n",
       "      <td>12C3: NATURAL RESOURCES CONSERVATION SERVICE</td>\n",
       "      <td>156094018.0</td>\n",
       "      <td>10.912</td>\n",
       "      <td>Environmental Quality Incentives Program</td>\n",
       "      <td>05: Cooperative agreement</td>\n",
       "      <td>ENVIRONMENTAL QUALITY INCENTIVE PROGRAM</td>\n",
       "      <td>2006-6-28</td>\n",
       "      <td>2015-9-28</td>\n",
       "      <td>2015-9-28</td>\n",
       "      <td>NEW YORK</td>\n",
       "      <td>NaN</td>\n",
       "      <td>134390001</td>\n",
       "      <td>24.0</td>\n",
       "      <td>0</td>\n",
       "      <td>0</td>\n",
       "      <td>0</td>\n",
       "    </tr>\n",
       "    <tr>\n",
       "      <th>2</th>\n",
       "      <td>000000CCT510420</td>\n",
       "      <td>7500: HEALTH AND HUMAN SERVICES, DEPARTMENT OF</td>\n",
       "      <td>7523: CENTERS FOR DISEASE CONTROL</td>\n",
       "      <td>NaN</td>\n",
       "      <td>93.118</td>\n",
       "      <td>Acquired Immunodeficiency Syndrome (AIDS) Acti...</td>\n",
       "      <td>04: Project grant</td>\n",
       "      <td>NaN</td>\n",
       "      <td>2002-4-1</td>\n",
       "      <td>2003-6-28</td>\n",
       "      <td>2005-6-28</td>\n",
       "      <td>OHIO</td>\n",
       "      <td>NaN</td>\n",
       "      <td>.</td>\n",
       "      <td>0.0</td>\n",
       "      <td>0</td>\n",
       "      <td>0</td>\n",
       "      <td>0</td>\n",
       "    </tr>\n",
       "  </tbody>\n",
       "</table>\n",
       "</div>"
      ],
      "text/plain": [
       "               piid                                  maj_agency_cat  \\\n",
       "0  0000000000501534                1200: AGRICULTURE, DEPARTMENT OF   \n",
       "1  0000000000601622                1200: AGRICULTURE, DEPARTMENT OF   \n",
       "2   000000CCT510420  7500: HEALTH AND HUMAN SERVICES, DEPARTMENT OF   \n",
       "\n",
       "                                    agency_code      duns_no cfda_program_num  \\\n",
       "0  12C3: NATURAL RESOURCES CONSERVATION SERVICE  809811776.0           10.902   \n",
       "1  12C3: NATURAL RESOURCES CONSERVATION SERVICE  156094018.0           10.912   \n",
       "2             7523: CENTERS FOR DISEASE CONTROL          NaN           93.118   \n",
       "\n",
       "                                  cfda_program_title  \\\n",
       "0                        Soil and Water Conservation   \n",
       "1           Environmental Quality Incentives Program   \n",
       "2  Acquired Immunodeficiency Syndrome (AIDS) Acti...   \n",
       "\n",
       "             assistance_type                      project_description  \\\n",
       "0  05: Cooperative agreement        CONSERVATION TECHNICAL ASSISTANCE   \n",
       "1  05: Cooperative agreement  ENVIRONMENTAL QUALITY INCENTIVE PROGRAM   \n",
       "2          04: Project grant                                      NaN   \n",
       "\n",
       "   start_date   end_date last_modification_date principal_place_state  \\\n",
       "0  2009-11-10  2011-9-28              2011-9-28                  UTAH   \n",
       "1   2006-6-28  2015-9-28              2015-9-28              NEW YORK   \n",
       "2    2002-4-1  2003-6-28              2005-6-28                  OHIO   \n",
       "\n",
       "   principal_place_city principal_place_zip  principal_place_cd  sbir  sttr  \\\n",
       "0                   NaN           847201700                 2.0     0     0   \n",
       "1                   NaN           134390001                24.0     0     0   \n",
       "2                   NaN                   .                 0.0     0     0   \n",
       "\n",
       "   recovery  \n",
       "0         0  \n",
       "1         0  \n",
       "2         0  "
      ]
     },
     "execution_count": 17,
     "metadata": {},
     "output_type": "execute_result"
    }
   ],
   "source": [
    "# \n",
    "print(len(dfs[1]))\n",
    "dfs[1].head(3)"
   ]
  },
  {
   "cell_type": "code",
   "execution_count": null,
   "id": "28b69203-f394-49e9-b4b9-d16b7daec3c8",
   "metadata": {},
   "outputs": [],
   "source": []
  }
 ],
 "metadata": {
  "kernelspec": {
   "display_name": "Python 3 (ipykernel)",
   "language": "python",
   "name": "python3"
  },
  "language_info": {
   "codemirror_mode": {
    "name": "ipython",
    "version": 3
   },
   "file_extension": ".py",
   "mimetype": "text/x-python",
   "name": "python",
   "nbconvert_exporter": "python",
   "pygments_lexer": "ipython3",
   "version": "3.12.4"
  }
 },
 "nbformat": 4,
 "nbformat_minor": 5
}
