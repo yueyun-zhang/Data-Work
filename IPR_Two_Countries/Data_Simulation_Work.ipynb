{
 "cells": [
  {
   "cell_type": "markdown",
   "id": "66b11ca5-935c-4c31-8d0c-94f20c06f33d",
   "metadata": {},
   "source": [
    "# Initial Exploration - IPR of Basic Research\n"
   ]
  },
  {
   "cell_type": "markdown",
   "id": "c18d9b78-5427-4dae-9290-3eed2d1ec1c3",
   "metadata": {},
   "source": [
    "## Purpose\n",
    "The purpose of the proposed research is to o investigate the impact of retaining or not intellectual property rights (IPR) of basic research in one country on the dynamics of growth in a two-countries setup. In this initial exploration of the topic, the first part is to provide some suggestive empirical evidence about flow of basic research and diffusion in- and out- of Canada. The second part is to leverage simulation techniques to model the basic setup."
   ]
  },
  {
   "cell_type": "markdown",
   "id": "5f95a26e-b3a4-45f9-be55-9e6c381faf5f",
   "metadata": {},
   "source": [
    "## Data Exploration\n",
    "The data exploration leverages Derwent Innovation Database that lists all patents application worldwide. The data has been cleaned through machine learning techniques. In addition, indicators such as combined patent impact and counts of forward citation are provided.\r\n",
    "\r\n",
    "The first query use: PAOC=(CA OR US) AND (IN=(UNIV OR Institute) OR PA=(UNIV OR Institute)); This query looks into all applications that have applicants or inventors name listed as UNIV or Institute, and that applications originated in US and Canada. This has the purpose to segment the dataset to patent applications applied for by public institutions."
   ]
  },
  {
   "cell_type": "code",
   "execution_count": 1,
   "id": "7d763bff-540f-4401-b345-2f5bb7db9a17",
   "metadata": {},
   "outputs": [],
   "source": [
    "import pandas as pd\n",
    "import numpy as np"
   ]
  },
  {
   "cell_type": "code",
   "execution_count": 2,
   "id": "41fa2679-3dd3-4846-8920-6a09d553a360",
   "metadata": {},
   "outputs": [],
   "source": [
    "# limit of 60k result per patch therefore the requirement is to segment the data\n",
    "\n",
    "# first patch 1700 - 2000"
   ]
  },
  {
   "cell_type": "code",
   "execution_count": 11,
   "id": "2a4bfb3b-0b5b-49ad-bc58-8030e4522eeb",
   "metadata": {},
   "outputs": [],
   "source": [
    "requester.return_fields.append('pr')"
   ]
  },
  {
   "cell_type": "code",
   "execution_count": 12,
   "id": "a9357c5f-29b5-462e-adc5-b056c0c07dbb",
   "metadata": {},
   "outputs": [
    {
     "ename": "KeyError",
     "evalue": "'DERWENT_USERNAME'",
     "output_type": "error",
     "traceback": [
      "\u001b[1;31m---------------------------------------------------------------------------\u001b[0m",
      "\u001b[1;31mKeyError\u001b[0m                                  Traceback (most recent call last)",
      "Cell \u001b[1;32mIn[12], line 3\u001b[0m\n\u001b[0;32m      1\u001b[0m \u001b[38;5;66;03m# Grantee_information\u001b[39;00m\n\u001b[1;32m----> 3\u001b[0m requester\u001b[38;5;241m.\u001b[39mpost()\n",
      "File \u001b[1;32m~\\AppData\\Local\\anaconda3\\Lib\\site-packages\\derwent_api\\_base.py:287\u001b[0m, in \u001b[0;36m_TsipSearchRequester.post\u001b[1;34m(self, timeout, rate_limit, paginate, **kwargs)\u001b[0m\n\u001b[0;32m    285\u001b[0m results \u001b[38;5;241m=\u001b[39m deque()\n\u001b[0;32m    286\u001b[0m \u001b[38;5;28;01mfor\u001b[39;00m size, offset \u001b[38;5;129;01min\u001b[39;00m \u001b[38;5;28mzip\u001b[39m(sizes, offsets):\n\u001b[1;32m--> 287\u001b[0m     result \u001b[38;5;241m=\u001b[39m \u001b[38;5;28msuper\u001b[39m()\u001b[38;5;241m.\u001b[39mpost(\n\u001b[0;32m    288\u001b[0m         timeout,\n\u001b[0;32m    289\u001b[0m         rate_limit,\n\u001b[0;32m    290\u001b[0m         size\u001b[38;5;241m=\u001b[39msize,\n\u001b[0;32m    291\u001b[0m         offset\u001b[38;5;241m=\u001b[39mactive_offset \u001b[38;5;241m+\u001b[39m offset,\n\u001b[0;32m    292\u001b[0m         \u001b[38;5;241m*\u001b[39m\u001b[38;5;241m*\u001b[39m{\n\u001b[0;32m    293\u001b[0m             key: value\n\u001b[0;32m    294\u001b[0m             \u001b[38;5;28;01mfor\u001b[39;00m key, value \u001b[38;5;129;01min\u001b[39;00m kwargs\u001b[38;5;241m.\u001b[39mitems()\n\u001b[0;32m    295\u001b[0m             \u001b[38;5;28;01mif\u001b[39;00m key \u001b[38;5;129;01mnot\u001b[39;00m \u001b[38;5;129;01min\u001b[39;00m [\u001b[38;5;124m'\u001b[39m\u001b[38;5;124msize\u001b[39m\u001b[38;5;124m'\u001b[39m, \u001b[38;5;124m'\u001b[39m\u001b[38;5;124moffset\u001b[39m\u001b[38;5;124m'\u001b[39m]\n\u001b[0;32m    296\u001b[0m         }\n\u001b[0;32m    297\u001b[0m     )\n\u001b[0;32m    298\u001b[0m     \u001b[38;5;28;01mif\u001b[39;00m result\u001b[38;5;241m.\u001b[39mshape[\u001b[38;5;241m0\u001b[39m] \u001b[38;5;241m==\u001b[39m \u001b[38;5;241m0\u001b[39m:\n\u001b[0;32m    299\u001b[0m         \u001b[38;5;28;01mbreak\u001b[39;00m\n",
      "File \u001b[1;32m~\\AppData\\Local\\anaconda3\\Lib\\site-packages\\derwent_api\\_base.py:76\u001b[0m, in \u001b[0;36m_Requester.post\u001b[1;34m(self, timeout, rate_limit, **kwargs)\u001b[0m\n\u001b[0;32m     73\u001b[0m \u001b[38;5;28mself\u001b[39m\u001b[38;5;241m.\u001b[39m_prepost(\u001b[38;5;241m*\u001b[39m\u001b[38;5;241m*\u001b[39mkwargs)\n\u001b[0;32m     75\u001b[0m \u001b[38;5;66;03m# Send the request\u001b[39;00m\n\u001b[1;32m---> 76\u001b[0m payload \u001b[38;5;241m=\u001b[39m \u001b[38;5;28mself\u001b[39m\u001b[38;5;241m.\u001b[39m_build_request(\u001b[38;5;241m*\u001b[39m\u001b[38;5;241m*\u001b[39mkwargs)\n\u001b[0;32m     77\u001b[0m payload \u001b[38;5;241m=\u001b[39m ET\u001b[38;5;241m.\u001b[39mtostring(payload,\n\u001b[0;32m     78\u001b[0m                       encoding\u001b[38;5;241m=\u001b[39m\u001b[38;5;124m'\u001b[39m\u001b[38;5;124mutf-8\u001b[39m\u001b[38;5;124m'\u001b[39m,\n\u001b[0;32m     79\u001b[0m                       xml_declaration\u001b[38;5;241m=\u001b[39m\u001b[38;5;28;01mTrue\u001b[39;00m,\n\u001b[0;32m     80\u001b[0m                       short_empty_elements\u001b[38;5;241m=\u001b[39m\u001b[38;5;28;01mTrue\u001b[39;00m)\n\u001b[0;32m     81\u001b[0m response \u001b[38;5;241m=\u001b[39m requests\u001b[38;5;241m.\u001b[39mpost(\u001b[38;5;28mself\u001b[39m\u001b[38;5;241m.\u001b[39mendpoint, data\u001b[38;5;241m=\u001b[39mpayload, timeout\u001b[38;5;241m=\u001b[39mtimeout)\n",
      "File \u001b[1;32m~\\AppData\\Local\\anaconda3\\Lib\\site-packages\\derwent_api\\_base.py:161\u001b[0m, in \u001b[0;36m_Requester._build_request\u001b[1;34m(self, **kwargs)\u001b[0m\n\u001b[0;32m    158\u001b[0m map_element \u001b[38;5;241m=\u001b[39m ET\u001b[38;5;241m.\u001b[39mSubElement(list_element, \u001b[38;5;124m'\u001b[39m\u001b[38;5;124mmap\u001b[39m\u001b[38;5;124m'\u001b[39m)\n\u001b[0;32m    160\u001b[0m username \u001b[38;5;241m=\u001b[39m ET\u001b[38;5;241m.\u001b[39mSubElement(map_element, \u001b[38;5;124m'\u001b[39m\u001b[38;5;124mval\u001b[39m\u001b[38;5;124m'\u001b[39m, {\u001b[38;5;124m'\u001b[39m\u001b[38;5;124mname\u001b[39m\u001b[38;5;124m'\u001b[39m:\u001b[38;5;124m'\u001b[39m\u001b[38;5;124musername\u001b[39m\u001b[38;5;124m'\u001b[39m})\n\u001b[1;32m--> 161\u001b[0m username\u001b[38;5;241m.\u001b[39mtext \u001b[38;5;241m=\u001b[39m os\u001b[38;5;241m.\u001b[39menviron[\u001b[38;5;124m'\u001b[39m\u001b[38;5;124mDERWENT_USERNAME\u001b[39m\u001b[38;5;124m'\u001b[39m]\n\u001b[0;32m    162\u001b[0m password \u001b[38;5;241m=\u001b[39m ET\u001b[38;5;241m.\u001b[39mSubElement(map_element, \u001b[38;5;124m'\u001b[39m\u001b[38;5;124mval\u001b[39m\u001b[38;5;124m'\u001b[39m, {\u001b[38;5;124m'\u001b[39m\u001b[38;5;124mname\u001b[39m\u001b[38;5;124m'\u001b[39m:\u001b[38;5;124m'\u001b[39m\u001b[38;5;124mpassword\u001b[39m\u001b[38;5;124m'\u001b[39m})\n\u001b[0;32m    163\u001b[0m password\u001b[38;5;241m.\u001b[39mtext \u001b[38;5;241m=\u001b[39m os\u001b[38;5;241m.\u001b[39menviron[\u001b[38;5;124m'\u001b[39m\u001b[38;5;124mDERWENT_PASSWORD\u001b[39m\u001b[38;5;124m'\u001b[39m]\n",
      "File \u001b[1;32m<frozen os>:714\u001b[0m, in \u001b[0;36m__getitem__\u001b[1;34m(self, key)\u001b[0m\n",
      "\u001b[1;31mKeyError\u001b[0m: 'DERWENT_USERNAME'"
     ]
    }
   ],
   "source": [
    "# Grantee_information\n",
    "\n",
    "requester.post()"
   ]
  },
  {
   "cell_type": "code",
   "execution_count": 17,
   "id": "aad128a8-b756-4430-aa4c-aee0b07a6260",
   "metadata": {},
   "outputs": [
    {
     "name": "stdout",
     "output_type": "stream",
     "text": [
      "16402\n"
     ]
    },
    {
     "data": {
      "text/html": [
       "<div>\n",
       "<style scoped>\n",
       "    .dataframe tbody tr th:only-of-type {\n",
       "        vertical-align: middle;\n",
       "    }\n",
       "\n",
       "    .dataframe tbody tr th {\n",
       "        vertical-align: top;\n",
       "    }\n",
       "\n",
       "    .dataframe thead th {\n",
       "        text-align: right;\n",
       "    }\n",
       "</style>\n",
       "<table border=\"1\" class=\"dataframe\">\n",
       "  <thead>\n",
       "    <tr style=\"text-align: right;\">\n",
       "      <th></th>\n",
       "      <th>piid</th>\n",
       "      <th>maj_agency_cat</th>\n",
       "      <th>agency_code</th>\n",
       "      <th>duns_no</th>\n",
       "      <th>cfda_program_num</th>\n",
       "      <th>cfda_program_title</th>\n",
       "      <th>assistance_type</th>\n",
       "      <th>project_description</th>\n",
       "      <th>start_date</th>\n",
       "      <th>end_date</th>\n",
       "      <th>last_modification_date</th>\n",
       "      <th>principal_place_state</th>\n",
       "      <th>principal_place_city</th>\n",
       "      <th>principal_place_zip</th>\n",
       "      <th>principal_place_cd</th>\n",
       "      <th>sbir</th>\n",
       "      <th>sttr</th>\n",
       "      <th>recovery</th>\n",
       "    </tr>\n",
       "  </thead>\n",
       "  <tbody>\n",
       "    <tr>\n",
       "      <th>0</th>\n",
       "      <td>0000000000501534</td>\n",
       "      <td>1200: AGRICULTURE, DEPARTMENT OF</td>\n",
       "      <td>12C3: NATURAL RESOURCES CONSERVATION SERVICE</td>\n",
       "      <td>809811776.0</td>\n",
       "      <td>10.902</td>\n",
       "      <td>Soil and Water Conservation</td>\n",
       "      <td>05: Cooperative agreement</td>\n",
       "      <td>CONSERVATION TECHNICAL ASSISTANCE</td>\n",
       "      <td>2009-11-10</td>\n",
       "      <td>2011-9-28</td>\n",
       "      <td>2011-9-28</td>\n",
       "      <td>UTAH</td>\n",
       "      <td>NaN</td>\n",
       "      <td>847201700</td>\n",
       "      <td>2.0</td>\n",
       "      <td>0</td>\n",
       "      <td>0</td>\n",
       "      <td>0</td>\n",
       "    </tr>\n",
       "    <tr>\n",
       "      <th>1</th>\n",
       "      <td>0000000000601622</td>\n",
       "      <td>1200: AGRICULTURE, DEPARTMENT OF</td>\n",
       "      <td>12C3: NATURAL RESOURCES CONSERVATION SERVICE</td>\n",
       "      <td>156094018.0</td>\n",
       "      <td>10.912</td>\n",
       "      <td>Environmental Quality Incentives Program</td>\n",
       "      <td>05: Cooperative agreement</td>\n",
       "      <td>ENVIRONMENTAL QUALITY INCENTIVE PROGRAM</td>\n",
       "      <td>2006-6-28</td>\n",
       "      <td>2015-9-28</td>\n",
       "      <td>2015-9-28</td>\n",
       "      <td>NEW YORK</td>\n",
       "      <td>NaN</td>\n",
       "      <td>134390001</td>\n",
       "      <td>24.0</td>\n",
       "      <td>0</td>\n",
       "      <td>0</td>\n",
       "      <td>0</td>\n",
       "    </tr>\n",
       "    <tr>\n",
       "      <th>2</th>\n",
       "      <td>000000CCT510420</td>\n",
       "      <td>7500: HEALTH AND HUMAN SERVICES, DEPARTMENT OF</td>\n",
       "      <td>7523: CENTERS FOR DISEASE CONTROL</td>\n",
       "      <td>NaN</td>\n",
       "      <td>93.118</td>\n",
       "      <td>Acquired Immunodeficiency Syndrome (AIDS) Acti...</td>\n",
       "      <td>04: Project grant</td>\n",
       "      <td>NaN</td>\n",
       "      <td>2002-4-1</td>\n",
       "      <td>2003-6-28</td>\n",
       "      <td>2005-6-28</td>\n",
       "      <td>OHIO</td>\n",
       "      <td>NaN</td>\n",
       "      <td>.</td>\n",
       "      <td>0.0</td>\n",
       "      <td>0</td>\n",
       "      <td>0</td>\n",
       "      <td>0</td>\n",
       "    </tr>\n",
       "  </tbody>\n",
       "</table>\n",
       "</div>"
      ],
      "text/plain": [
       "               piid                                  maj_agency_cat  \\\n",
       "0  0000000000501534                1200: AGRICULTURE, DEPARTMENT OF   \n",
       "1  0000000000601622                1200: AGRICULTURE, DEPARTMENT OF   \n",
       "2   000000CCT510420  7500: HEALTH AND HUMAN SERVICES, DEPARTMENT OF   \n",
       "\n",
       "                                    agency_code      duns_no cfda_program_num  \\\n",
       "0  12C3: NATURAL RESOURCES CONSERVATION SERVICE  809811776.0           10.902   \n",
       "1  12C3: NATURAL RESOURCES CONSERVATION SERVICE  156094018.0           10.912   \n",
       "2             7523: CENTERS FOR DISEASE CONTROL          NaN           93.118   \n",
       "\n",
       "                                  cfda_program_title  \\\n",
       "0                        Soil and Water Conservation   \n",
       "1           Environmental Quality Incentives Program   \n",
       "2  Acquired Immunodeficiency Syndrome (AIDS) Acti...   \n",
       "\n",
       "             assistance_type                      project_description  \\\n",
       "0  05: Cooperative agreement        CONSERVATION TECHNICAL ASSISTANCE   \n",
       "1  05: Cooperative agreement  ENVIRONMENTAL QUALITY INCENTIVE PROGRAM   \n",
       "2          04: Project grant                                      NaN   \n",
       "\n",
       "   start_date   end_date last_modification_date principal_place_state  \\\n",
       "0  2009-11-10  2011-9-28              2011-9-28                  UTAH   \n",
       "1   2006-6-28  2015-9-28              2015-9-28              NEW YORK   \n",
       "2    2002-4-1  2003-6-28              2005-6-28                  OHIO   \n",
       "\n",
       "   principal_place_city principal_place_zip  principal_place_cd  sbir  sttr  \\\n",
       "0                   NaN           847201700                 2.0     0     0   \n",
       "1                   NaN           134390001                24.0     0     0   \n",
       "2                   NaN                   .                 0.0     0     0   \n",
       "\n",
       "   recovery  \n",
       "0         0  \n",
       "1         0  \n",
       "2         0  "
      ]
     },
     "execution_count": 17,
     "metadata": {},
     "output_type": "execute_result"
    }
   ],
   "source": [
    "# \n",
    "print(len(dfs[1]))\n",
    "dfs[1].head(3)"
   ]
  },
  {
   "cell_type": "code",
   "execution_count": null,
   "id": "28b69203-f394-49e9-b4b9-d16b7daec3c8",
   "metadata": {},
   "outputs": [],
   "source": []
  }
 ],
 "metadata": {
  "kernelspec": {
   "display_name": "Python 3 (ipykernel)",
   "language": "python",
   "name": "python3"
  },
  "language_info": {
   "codemirror_mode": {
    "name": "ipython",
    "version": 3
   },
   "file_extension": ".py",
   "mimetype": "text/x-python",
   "name": "python",
   "nbconvert_exporter": "python",
   "pygments_lexer": "ipython3",
   "version": "3.12.4"
  }
 },
 "nbformat": 4,
 "nbformat_minor": 5
}
