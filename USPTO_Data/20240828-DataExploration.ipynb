{
 "cells": [
  {
   "cell_type": "markdown",
   "id": "f32ec163-ce58-4b0b-8c57-80f3f70bd7d3",
   "metadata": {},
   "source": [
    "# Data Exploration of USPTO Data"
   ]
  },
  {
   "cell_type": "markdown",
   "id": "ce4cc247-1853-4a20-a0b2-a5c8e4ff4063",
   "metadata": {
    "jp-MarkdownHeadingCollapsed": true
   },
   "source": [
    "This document is initiated in August 2024. We are exploring several public datasets published by USPTO.\n",
    "Here are the files as well as their publicly available explanation.\n",
    "\n",
    "- Patent assignment economics data (stata (.dta) and MS excel (.csv)): Contains detailed information on roughly 10.0 million patent assignments and other transactions recorded at the USPTO since 1970 and involving roughly 17.8 million patents and patent applications. For more information: http://www.uspto.gov/learning-and-resources/electronic-data-products/data\n",
    "\n",
    "- Patent examination research dataset (stata (.dta) and MS excel : Contains detailed information on more than 13 million publicly viewable patent applications filed with the USPTO along with more than 1 million PCT applications through June 2023. The data files include information on each application's characteristics, prosecution history, continuation history, claims of foreign priority, patent term adjustment history, publication history, and correspondence address information.\n",
    "\n",
    "- Patent application full text data/XML: Contains (MAR 15, 2001 - present) the full text of each patent application (non-provisional utility and plant) published weekly (Thursdays) (excludes images/drawings). The file format is eXtensible Markup Language (XML) in accordance with the Patent Application International Common Element (ICE) Document Type Definition (DTD).\n",
    "\n",
    "- Historical masterfile: The historical_masterfile contains micro-level application, NBER sub-category, and prosecution data on 2.2 million patent applications filed from 1981 to 2015 and 8.9 million patents issued through 2014.\n",
    "\n",
    "- https://patentsview.org/download/data-download-tables\n"
   ]
  },
  {
   "cell_type": "code",
   "execution_count": 3,
   "id": "5ec41e24-95b4-4fbd-a49c-d92a71dd7d03",
   "metadata": {},
   "outputs": [],
   "source": [
    "# libraries\n",
    "import pandas as pd\n",
    "import numpy as np\n",
    "from os import listdir\n",
    "import matplotlib.pyplot as plt"
   ]
  },
  {
   "cell_type": "markdown",
   "id": "9b80d011-c876-41b7-a45e-bdbd2637bef2",
   "metadata": {},
   "source": [
    "## Trajtenberg (2002)"
   ]
  },
  {
   "cell_type": "markdown",
   "id": "cbf7a367-e9e7-4521-8d43-4a456ffb540f",
   "metadata": {},
   "source": [
    "After initial data exploration, the most appropriate datasets to replicate his paper are \"historical masterfile\" and \"patent examination research dataset\". The two datasets can be matched by application ID. \n",
    "\n",
    "- Historical masterfile contains information on publication number, patent number, NBER number, USPC number, application date, prior date, disposal date, application number, as well as other information. \n",
    "- Patent examination research dataset provides information on the parent country, foreign parent ID, foreign parent date and application number. "
   ]
  },
  {
   "cell_type": "code",
   "execution_count": 70,
   "id": "3e6f6843-cfe9-4188-b7f7-85f8337b8457",
   "metadata": {},
   "outputs": [
    {
     "name": "stderr",
     "output_type": "stream",
     "text": [
      "/var/folders/_c/hqgq6n0s7yl267nvktc1m9l00000gn/T/ipykernel_6425/1063775723.py:2: DtypeWarning: Columns (1,2,4,8,12) have mixed types. Specify dtype option on import or set low_memory=False.\n",
      "  masterfile = pd.read_csv(\"data/historical_masterfile.csv\") # Patent examination research dataset (stata (.dta) and MS excel (.csv))\n"
     ]
    }
   ],
   "source": [
    "foreign = pd.read_stata(\"data/foreign_priority.dta\") # Patent examination research dataset (stata (.dta) and MS excel (.csv))\n",
    "masterfile = pd.read_csv(\"data/historical_masterfile.csv\") # Patent examination research dataset (stata (.dta) and MS excel (.csv))"
   ]
  },
  {
   "cell_type": "code",
   "execution_count": 74,
   "id": "91699f13-10a9-43d5-81a6-2eed3c353fa5",
   "metadata": {},
   "outputs": [
    {
     "data": {
      "text/plain": [
       "application_number     object\n",
       "foreign_parent_id      object\n",
       "foreign_parent_date    object\n",
       "parent_country         object\n",
       "dtype: object"
      ]
     },
     "execution_count": 74,
     "metadata": {},
     "output_type": "execute_result"
    }
   ],
   "source": [
    "foreign.dtypes\n",
    "#foreign.head(10)"
   ]
  },
  {
   "cell_type": "code",
   "execution_count": 106,
   "id": "821f25f8-4df6-4576-b3bf-0451933bce1c",
   "metadata": {},
   "outputs": [],
   "source": [
    "masterfile = masterfile[masterfile[\"appl_id\"].notnull()]\n",
    "masterfile[\"appl_id\"] = masterfile[\"appl_id\"].astype('int64')\n",
    "#masterfile.head(10)"
   ]
  },
  {
   "cell_type": "code",
   "execution_count": 131,
   "id": "1e674aab-7d67-4c21-a78d-b27090a1de99",
   "metadata": {},
   "outputs": [
    {
     "name": "stderr",
     "output_type": "stream",
     "text": [
      "/var/folders/_c/hqgq6n0s7yl267nvktc1m9l00000gn/T/ipykernel_6425/12571759.py:2: SettingWithCopyWarning: \n",
      "A value is trying to be set on a copy of a slice from a DataFrame.\n",
      "Try using .loc[row_indexer,col_indexer] = value instead\n",
      "\n",
      "See the caveats in the documentation: https://pandas.pydata.org/pandas-docs/stable/user_guide/indexing.html#returning-a-view-versus-a-copy\n",
      "  CA_subset['appl_id'] = CA_subset[\"application_number\"]\n"
     ]
    }
   ],
   "source": [
    "CA_subset = foreign[foreign[\"parent_country\"]==\"CANADA\"] #Trajtenberg paper has over 45000 data points\n",
    "CA_subset['appl_id'] = CA_subset[\"application_number\"]\n",
    "CA_subset = CA_subset[CA_subset[\"appl_id\"].notnull()]\n",
    "CA_subset = CA_subset[CA_subset['appl_id'].str.isnumeric() == True]"
   ]
  },
  {
   "cell_type": "code",
   "execution_count": 132,
   "id": "d96abd0c-4ac7-47e2-8ba2-b5219c5dcf57",
   "metadata": {},
   "outputs": [],
   "source": [
    "CA_subset = CA_subset[CA_subset['appl_id'].notnull()]\n",
    "CA_subset['appl_id'] = CA_subset['appl_id'].astype('int64')"
   ]
  },
  {
   "cell_type": "code",
   "execution_count": 133,
   "id": "c654f397-aaf5-4409-9fb0-d060dd348609",
   "metadata": {},
   "outputs": [],
   "source": [
    "data = pd.merge(CA_subset, masterfile, 'inner', on=\"appl_id\")"
   ]
  },
  {
   "cell_type": "code",
   "execution_count": 134,
   "id": "cc1d557c-a197-4d9c-8a5d-79f4039e045f",
   "metadata": {},
   "outputs": [
    {
     "name": "stderr",
     "output_type": "stream",
     "text": [
      "/var/folders/_c/hqgq6n0s7yl267nvktc1m9l00000gn/T/ipykernel_6425/2237299781.py:1: UserWarning: Could not infer format, so each element will be parsed individually, falling back to `dateutil`. To ensure parsing is consistent and as-expected, please specify a format.\n",
      "  data[\"appl_dt\"] = pd.to_datetime(data[\"appl_dt\"])\n"
     ]
    }
   ],
   "source": [
    "data[\"appl_dt\"] = pd.to_datetime(data[\"appl_dt\"])"
   ]
  },
  {
   "cell_type": "code",
   "execution_count": 135,
   "id": "56cf9227-3ed0-4942-82ff-4e274ec23da9",
   "metadata": {},
   "outputs": [
    {
     "data": {
      "text/html": [
       "<div>\n",
       "<style scoped>\n",
       "    .dataframe tbody tr th:only-of-type {\n",
       "        vertical-align: middle;\n",
       "    }\n",
       "\n",
       "    .dataframe tbody tr th {\n",
       "        vertical-align: top;\n",
       "    }\n",
       "\n",
       "    .dataframe thead th {\n",
       "        text-align: right;\n",
       "    }\n",
       "</style>\n",
       "<table border=\"1\" class=\"dataframe\">\n",
       "  <thead>\n",
       "    <tr style=\"text-align: right;\">\n",
       "      <th></th>\n",
       "      <th>application_number</th>\n",
       "      <th>foreign_parent_id</th>\n",
       "      <th>foreign_parent_date</th>\n",
       "      <th>parent_country</th>\n",
       "      <th>appl_id</th>\n",
       "      <th>pubno</th>\n",
       "      <th>patent</th>\n",
       "      <th>nber</th>\n",
       "      <th>uspc</th>\n",
       "      <th>uspc_sub</th>\n",
       "      <th>appl_dt</th>\n",
       "      <th>prior_dt</th>\n",
       "      <th>pub_dt</th>\n",
       "      <th>disp_dt</th>\n",
       "      <th>disp_ty</th>\n",
       "      <th>exp_dt</th>\n",
       "      <th>exp_dt_max</th>\n",
       "      <th>pta</th>\n",
       "    </tr>\n",
       "  </thead>\n",
       "  <tbody>\n",
       "    <tr>\n",
       "      <th>0</th>\n",
       "      <td>09463347</td>\n",
       "      <td>2211293</td>\n",
       "      <td>1997-07-23 00:00:00</td>\n",
       "      <td>CANADA</td>\n",
       "      <td>9463347</td>\n",
       "      <td>NaN</td>\n",
       "      <td>-74779</td>\n",
       "      <td>31</td>\n",
       "      <td>435.0</td>\n",
       "      <td>NaN</td>\n",
       "      <td>2000-01-21</td>\n",
       "      <td>21jan2000</td>\n",
       "      <td>NaN</td>\n",
       "      <td>14aug2003</td>\n",
       "      <td>ABN</td>\n",
       "      <td>NaN</td>\n",
       "      <td>NaN</td>\n",
       "      <td>0.0</td>\n",
       "    </tr>\n",
       "    <tr>\n",
       "      <th>1</th>\n",
       "      <td>09744718</td>\n",
       "      <td>2,273,570</td>\n",
       "      <td>1999-05-31 00:00:00</td>\n",
       "      <td>CANADA</td>\n",
       "      <td>9744718</td>\n",
       "      <td>NaN</td>\n",
       "      <td>-2845629</td>\n",
       "      <td>19</td>\n",
       "      <td>203.0</td>\n",
       "      <td>NaN</td>\n",
       "      <td>2001-01-30</td>\n",
       "      <td>30jan2001</td>\n",
       "      <td>NaN</td>\n",
       "      <td>25nov2002</td>\n",
       "      <td>ABN</td>\n",
       "      <td>NaN</td>\n",
       "      <td>NaN</td>\n",
       "      <td>0.0</td>\n",
       "    </tr>\n",
       "    <tr>\n",
       "      <th>2</th>\n",
       "      <td>09913258</td>\n",
       "      <td>2,243,983</td>\n",
       "      <td>1998-09-17 00:00:00</td>\n",
       "      <td>CANADA</td>\n",
       "      <td>9913258</td>\n",
       "      <td>NaN</td>\n",
       "      <td>-2699828</td>\n",
       "      <td>31</td>\n",
       "      <td>424</td>\n",
       "      <td>NaN</td>\n",
       "      <td>2001-08-10</td>\n",
       "      <td>10aug2001</td>\n",
       "      <td>NaN</td>\n",
       "      <td>26feb2004</td>\n",
       "      <td>ABN</td>\n",
       "      <td>NaN</td>\n",
       "      <td>NaN</td>\n",
       "      <td>0.0</td>\n",
       "    </tr>\n",
       "    <tr>\n",
       "      <th>3</th>\n",
       "      <td>09926663</td>\n",
       "      <td>2,302,905</td>\n",
       "      <td>2000-03-29 00:00:00</td>\n",
       "      <td>CANADA</td>\n",
       "      <td>9926663</td>\n",
       "      <td>NaN</td>\n",
       "      <td>-1133201</td>\n",
       "      <td>22</td>\n",
       "      <td>709.0</td>\n",
       "      <td>NaN</td>\n",
       "      <td>2001-11-29</td>\n",
       "      <td>29nov2001</td>\n",
       "      <td>NaN</td>\n",
       "      <td>15jan2003</td>\n",
       "      <td>ABN</td>\n",
       "      <td>NaN</td>\n",
       "      <td>NaN</td>\n",
       "      <td>0.0</td>\n",
       "    </tr>\n",
       "    <tr>\n",
       "      <th>4</th>\n",
       "      <td>09959922</td>\n",
       "      <td>2,307,074</td>\n",
       "      <td>2000-04-28 00:00:00</td>\n",
       "      <td>CANADA</td>\n",
       "      <td>9959922</td>\n",
       "      <td>NaN</td>\n",
       "      <td>-2395226</td>\n",
       "      <td>68</td>\n",
       "      <td>220</td>\n",
       "      <td>NaN</td>\n",
       "      <td>2001-11-13</td>\n",
       "      <td>13nov2001</td>\n",
       "      <td>NaN</td>\n",
       "      <td>03jul2006</td>\n",
       "      <td>ABN</td>\n",
       "      <td>NaN</td>\n",
       "      <td>NaN</td>\n",
       "      <td>0.0</td>\n",
       "    </tr>\n",
       "    <tr>\n",
       "      <th>...</th>\n",
       "      <td>...</td>\n",
       "      <td>...</td>\n",
       "      <td>...</td>\n",
       "      <td>...</td>\n",
       "      <td>...</td>\n",
       "      <td>...</td>\n",
       "      <td>...</td>\n",
       "      <td>...</td>\n",
       "      <td>...</td>\n",
       "      <td>...</td>\n",
       "      <td>...</td>\n",
       "      <td>...</td>\n",
       "      <td>...</td>\n",
       "      <td>...</td>\n",
       "      <td>...</td>\n",
       "      <td>...</td>\n",
       "      <td>...</td>\n",
       "      <td>...</td>\n",
       "    </tr>\n",
       "    <tr>\n",
       "      <th>24162</th>\n",
       "      <td>14406916</td>\n",
       "      <td>2779896</td>\n",
       "      <td>2012-06-13 00:00:00</td>\n",
       "      <td>CANADA</td>\n",
       "      <td>14406916</td>\n",
       "      <td>NaN</td>\n",
       "      <td>-1115808</td>\n",
       "      <td>49</td>\n",
       "      <td>307.0</td>\n",
       "      <td>023</td>\n",
       "      <td>2014-12-10</td>\n",
       "      <td>10dec2014</td>\n",
       "      <td>NaN</td>\n",
       "      <td>NaN</td>\n",
       "      <td>PEN</td>\n",
       "      <td>NaN</td>\n",
       "      <td>NaN</td>\n",
       "      <td>NaN</td>\n",
       "    </tr>\n",
       "    <tr>\n",
       "      <th>24163</th>\n",
       "      <td>14407041</td>\n",
       "      <td>2,779,898</td>\n",
       "      <td>2012-06-13 00:00:00</td>\n",
       "      <td>CANADA</td>\n",
       "      <td>14407041</td>\n",
       "      <td>NaN</td>\n",
       "      <td>-356763</td>\n",
       "      <td>45</td>\n",
       "      <td>290.0</td>\n",
       "      <td>044</td>\n",
       "      <td>2014-12-10</td>\n",
       "      <td>10dec2014</td>\n",
       "      <td>NaN</td>\n",
       "      <td>NaN</td>\n",
       "      <td>PEN</td>\n",
       "      <td>NaN</td>\n",
       "      <td>NaN</td>\n",
       "      <td>NaN</td>\n",
       "    </tr>\n",
       "    <tr>\n",
       "      <th>24164</th>\n",
       "      <td>14117014</td>\n",
       "      <td>2,741,240</td>\n",
       "      <td>2011-05-27 00:00:00</td>\n",
       "      <td>CANADA</td>\n",
       "      <td>14117014</td>\n",
       "      <td>NaN</td>\n",
       "      <td>-2119098</td>\n",
       "      <td>80</td>\n",
       "      <td>NaN</td>\n",
       "      <td>NaN</td>\n",
       "      <td>2013-11-11</td>\n",
       "      <td>11nov2013</td>\n",
       "      <td>NaN</td>\n",
       "      <td>18aug2014</td>\n",
       "      <td>ABN</td>\n",
       "      <td>NaN</td>\n",
       "      <td>NaN</td>\n",
       "      <td>0.0</td>\n",
       "    </tr>\n",
       "    <tr>\n",
       "      <th>24165</th>\n",
       "      <td>14357468</td>\n",
       "      <td>2758243</td>\n",
       "      <td>2011-11-10 00:00:00</td>\n",
       "      <td>CANADA</td>\n",
       "      <td>14357468</td>\n",
       "      <td>NaN</td>\n",
       "      <td>-1190243</td>\n",
       "      <td>80</td>\n",
       "      <td>NaN</td>\n",
       "      <td>NaN</td>\n",
       "      <td>2014-05-09</td>\n",
       "      <td>09may2014</td>\n",
       "      <td>NaN</td>\n",
       "      <td>NaN</td>\n",
       "      <td>PEN</td>\n",
       "      <td>NaN</td>\n",
       "      <td>NaN</td>\n",
       "      <td>NaN</td>\n",
       "    </tr>\n",
       "    <tr>\n",
       "      <th>24166</th>\n",
       "      <td>14128135</td>\n",
       "      <td>PCT/CA2011/000739</td>\n",
       "      <td>2011-06-21 00:00:00</td>\n",
       "      <td>CANADA</td>\n",
       "      <td>14128135</td>\n",
       "      <td>NaN</td>\n",
       "      <td>-1536054</td>\n",
       "      <td>80</td>\n",
       "      <td>NaN</td>\n",
       "      <td>NaN</td>\n",
       "      <td>2013-12-20</td>\n",
       "      <td>20dec2013</td>\n",
       "      <td>NaN</td>\n",
       "      <td>29jul2014</td>\n",
       "      <td>ABN</td>\n",
       "      <td>NaN</td>\n",
       "      <td>NaN</td>\n",
       "      <td>0.0</td>\n",
       "    </tr>\n",
       "  </tbody>\n",
       "</table>\n",
       "<p>24167 rows × 18 columns</p>\n",
       "</div>"
      ],
      "text/plain": [
       "      application_number  foreign_parent_id  foreign_parent_date  \\\n",
       "0               09463347            2211293  1997-07-23 00:00:00   \n",
       "1               09744718          2,273,570  1999-05-31 00:00:00   \n",
       "2               09913258          2,243,983  1998-09-17 00:00:00   \n",
       "3               09926663          2,302,905  2000-03-29 00:00:00   \n",
       "4               09959922          2,307,074  2000-04-28 00:00:00   \n",
       "...                  ...                ...                  ...   \n",
       "24162           14406916            2779896  2012-06-13 00:00:00   \n",
       "24163           14407041          2,779,898  2012-06-13 00:00:00   \n",
       "24164           14117014          2,741,240  2011-05-27 00:00:00   \n",
       "24165           14357468            2758243  2011-11-10 00:00:00   \n",
       "24166           14128135  PCT/CA2011/000739  2011-06-21 00:00:00   \n",
       "\n",
       "      parent_country   appl_id pubno    patent  nber   uspc uspc_sub  \\\n",
       "0             CANADA   9463347   NaN    -74779    31  435.0      NaN   \n",
       "1             CANADA   9744718   NaN  -2845629    19  203.0      NaN   \n",
       "2             CANADA   9913258   NaN  -2699828    31    424      NaN   \n",
       "3             CANADA   9926663   NaN  -1133201    22  709.0      NaN   \n",
       "4             CANADA   9959922   NaN  -2395226    68    220      NaN   \n",
       "...              ...       ...   ...       ...   ...    ...      ...   \n",
       "24162         CANADA  14406916   NaN  -1115808    49  307.0      023   \n",
       "24163         CANADA  14407041   NaN   -356763    45  290.0      044   \n",
       "24164         CANADA  14117014   NaN  -2119098    80    NaN      NaN   \n",
       "24165         CANADA  14357468   NaN  -1190243    80    NaN      NaN   \n",
       "24166         CANADA  14128135   NaN  -1536054    80    NaN      NaN   \n",
       "\n",
       "         appl_dt   prior_dt pub_dt    disp_dt disp_ty exp_dt exp_dt_max  pta  \n",
       "0     2000-01-21  21jan2000    NaN  14aug2003     ABN    NaN        NaN  0.0  \n",
       "1     2001-01-30  30jan2001    NaN  25nov2002     ABN    NaN        NaN  0.0  \n",
       "2     2001-08-10  10aug2001    NaN  26feb2004     ABN    NaN        NaN  0.0  \n",
       "3     2001-11-29  29nov2001    NaN  15jan2003     ABN    NaN        NaN  0.0  \n",
       "4     2001-11-13  13nov2001    NaN  03jul2006     ABN    NaN        NaN  0.0  \n",
       "...          ...        ...    ...        ...     ...    ...        ...  ...  \n",
       "24162 2014-12-10  10dec2014    NaN        NaN     PEN    NaN        NaN  NaN  \n",
       "24163 2014-12-10  10dec2014    NaN        NaN     PEN    NaN        NaN  NaN  \n",
       "24164 2013-11-11  11nov2013    NaN  18aug2014     ABN    NaN        NaN  0.0  \n",
       "24165 2014-05-09  09may2014    NaN        NaN     PEN    NaN        NaN  NaN  \n",
       "24166 2013-12-20  20dec2013    NaN  29jul2014     ABN    NaN        NaN  0.0  \n",
       "\n",
       "[24167 rows x 18 columns]"
      ]
     },
     "execution_count": 135,
     "metadata": {},
     "output_type": "execute_result"
    }
   ],
   "source": [
    "data"
   ]
  },
  {
   "cell_type": "code",
   "execution_count": 138,
   "id": "b605a112-fba4-4028-a7d7-78800ebafb32",
   "metadata": {},
   "outputs": [],
   "source": [
    "data[\"year\"] = data[\"appl_dt\"].dt.year"
   ]
  },
  {
   "cell_type": "code",
   "execution_count": 149,
   "id": "f8431d40-83d4-4550-bd3b-58599c27e368",
   "metadata": {},
   "outputs": [],
   "source": [
    "count_agg_year = data.groupby('year').size().reset_index(name='counts')"
   ]
  },
  {
   "cell_type": "code",
   "execution_count": 152,
   "id": "5915458b-4d42-4c9c-84a4-d45f115d31d2",
   "metadata": {},
   "outputs": [
    {
     "data": {
      "text/plain": [
       "<Axes: xlabel='year'>"
      ]
     },
     "execution_count": 152,
     "metadata": {},
     "output_type": "execute_result"
    },
    {
     "data": {
      "image/png": "[encoded data removed]",
      "text/plain": [
       "<Figure size 640x480 with 1 Axes>"
      ]
     },
     "metadata": {},
     "output_type": "display_data"
    }
   ],
   "source": [
    "count_agg_year.plot(x=\"year\")"
   ]
  },
  {
   "cell_type": "code",
   "execution_count": 157,
   "id": "2c4edd4c-e1bc-4033-89e2-0484cf09e470",
   "metadata": {},
   "outputs": [],
   "source": [
    "import requests\n",
    "import json\n",
    "import pandas as pd\n",
    "import json_normalize"
   ]
  },
  {
   "cell_type": "code",
   "execution_count": 6,
   "id": "73e3129c-adb0-4b47-8536-41fd879540a1",
   "metadata": {},
   "outputs": [
    {
     "name": "stderr",
     "output_type": "stream",
     "text": [
      "/var/folders/_c/hqgq6n0s7yl267nvktc1m9l00000gn/T/ipykernel_15199/223197856.py:1: DtypeWarning: Columns (0,2,4) have mixed types. Specify dtype option on import or set low_memory=False.\n",
      "  data = pd.read_csv(\"data/g_application.tsv\", sep='\\t') # Patent examination research dataset (stata (.dta) and MS excel (.csv))\n"
     ]
    }
   ],
   "source": [
    "data = pd.read_csv(\"data/g_application.tsv\", sep='\\t') # Patent examination research dataset (stata (.dta) and MS excel (.csv))"
   ]
  },
  {
   "cell_type": "code",
   "execution_count": 10,
   "id": "da424886-0a06-47db-8965-d89cabdeca82",
   "metadata": {},
   "outputs": [
    {
     "name": "stderr",
     "output_type": "stream",
     "text": [
      "/var/folders/_c/hqgq6n0s7yl267nvktc1m9l00000gn/T/ipykernel_15199/1689402581.py:1: UserWarning: Could not infer format, so each element will be parsed individually, falling back to `dateutil`. To ensure parsing is consistent and as-expected, please specify a format.\n",
      "  data['filing_date'] = pd.to_datetime(data['filing_date'])\n"
     ]
    },
    {
     "ename": "OutOfBoundsDatetime",
     "evalue": "Out of bounds nanosecond timestamp: 1074-08-14, at position 0",
     "output_type": "error",
     "traceback": [
      "\u001b[0;31m---------------------------------------------------------------------------\u001b[0m",
      "\u001b[0;31mOverflowError\u001b[0m                             Traceback (most recent call last)",
      "File \u001b[0;32mconversion.pyx:326\u001b[0m, in \u001b[0;36mpandas._libs.tslibs.conversion._TSObject.ensure_reso\u001b[0;34m()\u001b[0m\n",
      "File \u001b[0;32mnp_datetime.pyx:683\u001b[0m, in \u001b[0;36mpandas._libs.tslibs.np_datetime.convert_reso\u001b[0;34m()\u001b[0m\n",
      "\u001b[0;31mOverflowError\u001b[0m: result would overflow",
      "\nThe above exception was the direct cause of the following exception:\n",
      "\u001b[0;31mOutOfBoundsDatetime\u001b[0m                       Traceback (most recent call last)",
      "Cell \u001b[0;32mIn[10], line 1\u001b[0m\n\u001b[0;32m----> 1\u001b[0m data[\u001b[38;5;124m'\u001b[39m\u001b[38;5;124mfiling_date\u001b[39m\u001b[38;5;124m'\u001b[39m] \u001b[38;5;241m=\u001b[39m pd\u001b[38;5;241m.\u001b[39mto_datetime(data[\u001b[38;5;124m'\u001b[39m\u001b[38;5;124mfiling_date\u001b[39m\u001b[38;5;124m'\u001b[39m])\n",
      "File \u001b[0;32m~/opt/anaconda3/lib/python3.12/site-packages/pandas/core/tools/datetimes.py:1067\u001b[0m, in \u001b[0;36mto_datetime\u001b[0;34m(arg, errors, dayfirst, yearfirst, utc, format, exact, unit, infer_datetime_format, origin, cache)\u001b[0m\n\u001b[1;32m   1065\u001b[0m         result \u001b[38;5;241m=\u001b[39m arg\u001b[38;5;241m.\u001b[39mmap(cache_array)\n\u001b[1;32m   1066\u001b[0m     \u001b[38;5;28;01melse\u001b[39;00m:\n\u001b[0;32m-> 1067\u001b[0m         values \u001b[38;5;241m=\u001b[39m convert_listlike(arg\u001b[38;5;241m.\u001b[39m_values, \u001b[38;5;28mformat\u001b[39m)\n\u001b[1;32m   1068\u001b[0m         result \u001b[38;5;241m=\u001b[39m arg\u001b[38;5;241m.\u001b[39m_constructor(values, index\u001b[38;5;241m=\u001b[39marg\u001b[38;5;241m.\u001b[39mindex, name\u001b[38;5;241m=\u001b[39marg\u001b[38;5;241m.\u001b[39mname)\n\u001b[1;32m   1069\u001b[0m \u001b[38;5;28;01melif\u001b[39;00m \u001b[38;5;28misinstance\u001b[39m(arg, (ABCDataFrame, abc\u001b[38;5;241m.\u001b[39mMutableMapping)):\n",
      "File \u001b[0;32m~/opt/anaconda3/lib/python3.12/site-packages/pandas/core/tools/datetimes.py:435\u001b[0m, in \u001b[0;36m_convert_listlike_datetimes\u001b[0;34m(arg, format, name, utc, unit, errors, dayfirst, yearfirst, exact)\u001b[0m\n\u001b[1;32m    432\u001b[0m \u001b[38;5;28;01mif\u001b[39;00m \u001b[38;5;28mformat\u001b[39m \u001b[38;5;129;01mis\u001b[39;00m \u001b[38;5;129;01mnot\u001b[39;00m \u001b[38;5;28;01mNone\u001b[39;00m \u001b[38;5;129;01mand\u001b[39;00m \u001b[38;5;28mformat\u001b[39m \u001b[38;5;241m!=\u001b[39m \u001b[38;5;124m\"\u001b[39m\u001b[38;5;124mmixed\u001b[39m\u001b[38;5;124m\"\u001b[39m:\n\u001b[1;32m    433\u001b[0m     \u001b[38;5;28;01mreturn\u001b[39;00m _array_strptime_with_fallback(arg, name, utc, \u001b[38;5;28mformat\u001b[39m, exact, errors)\n\u001b[0;32m--> 435\u001b[0m result, tz_parsed \u001b[38;5;241m=\u001b[39m objects_to_datetime64(\n\u001b[1;32m    436\u001b[0m     arg,\n\u001b[1;32m    437\u001b[0m     dayfirst\u001b[38;5;241m=\u001b[39mdayfirst,\n\u001b[1;32m    438\u001b[0m     yearfirst\u001b[38;5;241m=\u001b[39myearfirst,\n\u001b[1;32m    439\u001b[0m     utc\u001b[38;5;241m=\u001b[39mutc,\n\u001b[1;32m    440\u001b[0m     errors\u001b[38;5;241m=\u001b[39merrors,\n\u001b[1;32m    441\u001b[0m     allow_object\u001b[38;5;241m=\u001b[39m\u001b[38;5;28;01mTrue\u001b[39;00m,\n\u001b[1;32m    442\u001b[0m )\n\u001b[1;32m    444\u001b[0m \u001b[38;5;28;01mif\u001b[39;00m tz_parsed \u001b[38;5;129;01mis\u001b[39;00m \u001b[38;5;129;01mnot\u001b[39;00m \u001b[38;5;28;01mNone\u001b[39;00m:\n\u001b[1;32m    445\u001b[0m     \u001b[38;5;66;03m# We can take a shortcut since the datetime64 numpy array\u001b[39;00m\n\u001b[1;32m    446\u001b[0m     \u001b[38;5;66;03m# is in UTC\u001b[39;00m\n\u001b[1;32m    447\u001b[0m     out_unit \u001b[38;5;241m=\u001b[39m np\u001b[38;5;241m.\u001b[39mdatetime_data(result\u001b[38;5;241m.\u001b[39mdtype)[\u001b[38;5;241m0\u001b[39m]\n",
      "File \u001b[0;32m~/opt/anaconda3/lib/python3.12/site-packages/pandas/core/arrays/datetimes.py:2398\u001b[0m, in \u001b[0;36mobjects_to_datetime64\u001b[0;34m(data, dayfirst, yearfirst, utc, errors, allow_object, out_unit)\u001b[0m\n\u001b[1;32m   2395\u001b[0m \u001b[38;5;66;03m# if str-dtype, convert\u001b[39;00m\n\u001b[1;32m   2396\u001b[0m data \u001b[38;5;241m=\u001b[39m np\u001b[38;5;241m.\u001b[39masarray(data, dtype\u001b[38;5;241m=\u001b[39mnp\u001b[38;5;241m.\u001b[39mobject_)\n\u001b[0;32m-> 2398\u001b[0m result, tz_parsed \u001b[38;5;241m=\u001b[39m tslib\u001b[38;5;241m.\u001b[39marray_to_datetime(\n\u001b[1;32m   2399\u001b[0m     data,\n\u001b[1;32m   2400\u001b[0m     errors\u001b[38;5;241m=\u001b[39merrors,\n\u001b[1;32m   2401\u001b[0m     utc\u001b[38;5;241m=\u001b[39mutc,\n\u001b[1;32m   2402\u001b[0m     dayfirst\u001b[38;5;241m=\u001b[39mdayfirst,\n\u001b[1;32m   2403\u001b[0m     yearfirst\u001b[38;5;241m=\u001b[39myearfirst,\n\u001b[1;32m   2404\u001b[0m     creso\u001b[38;5;241m=\u001b[39mabbrev_to_npy_unit(out_unit),\n\u001b[1;32m   2405\u001b[0m )\n\u001b[1;32m   2407\u001b[0m \u001b[38;5;28;01mif\u001b[39;00m tz_parsed \u001b[38;5;129;01mis\u001b[39;00m \u001b[38;5;129;01mnot\u001b[39;00m \u001b[38;5;28;01mNone\u001b[39;00m:\n\u001b[1;32m   2408\u001b[0m     \u001b[38;5;66;03m# We can take a shortcut since the datetime64 numpy array\u001b[39;00m\n\u001b[1;32m   2409\u001b[0m     \u001b[38;5;66;03m#  is in UTC\u001b[39;00m\n\u001b[1;32m   2410\u001b[0m     \u001b[38;5;28;01mreturn\u001b[39;00m result, tz_parsed\n",
      "File \u001b[0;32mtslib.pyx:414\u001b[0m, in \u001b[0;36mpandas._libs.tslib.array_to_datetime\u001b[0;34m()\u001b[0m\n",
      "File \u001b[0;32mtslib.pyx:596\u001b[0m, in \u001b[0;36mpandas._libs.tslib.array_to_datetime\u001b[0;34m()\u001b[0m\n",
      "File \u001b[0;32mtslib.pyx:571\u001b[0m, in \u001b[0;36mpandas._libs.tslib.array_to_datetime\u001b[0;34m()\u001b[0m\n",
      "File \u001b[0;32mconversion.pyx:332\u001b[0m, in \u001b[0;36mpandas._libs.tslibs.conversion._TSObject.ensure_reso\u001b[0;34m()\u001b[0m\n",
      "\u001b[0;31mOutOfBoundsDatetime\u001b[0m: Out of bounds nanosecond timestamp: 1074-08-14, at position 0"
     ]
    }
   ],
   "source": [
    "data['filing_date'] = pd.to_datetime(data['filing_date'])"
   ]
  },
  {
   "cell_type": "code",
   "execution_count": 11,
   "id": "012664ae-f0e8-432c-a791-ea778cee7b1e",
   "metadata": {},
   "outputs": [
    {
     "data": {
      "text/html": [
       "<div>\n",
       "<style scoped>\n",
       "    .dataframe tbody tr th:only-of-type {\n",
       "        vertical-align: middle;\n",
       "    }\n",
       "\n",
       "    .dataframe tbody tr th {\n",
       "        vertical-align: top;\n",
       "    }\n",
       "\n",
       "    .dataframe thead th {\n",
       "        text-align: right;\n",
       "    }\n",
       "</style>\n",
       "<table border=\"1\" class=\"dataframe\">\n",
       "  <thead>\n",
       "    <tr style=\"text-align: right;\">\n",
       "      <th></th>\n",
       "      <th>application_id</th>\n",
       "      <th>patent_id</th>\n",
       "      <th>patent_application_type</th>\n",
       "      <th>filing_date</th>\n",
       "      <th>series_code</th>\n",
       "      <th>rule_47_flag</th>\n",
       "    </tr>\n",
       "  </thead>\n",
       "  <tbody>\n",
       "    <tr>\n",
       "      <th>0</th>\n",
       "      <td>05497504</td>\n",
       "      <td>3963197</td>\n",
       "      <td>05</td>\n",
       "      <td>1074-08-14</td>\n",
       "      <td>05</td>\n",
       "      <td>0.0</td>\n",
       "    </tr>\n",
       "    <tr>\n",
       "      <th>1</th>\n",
       "      <td>05508062</td>\n",
       "      <td>3933359</td>\n",
       "      <td>05</td>\n",
       "      <td>1074-09-23</td>\n",
       "      <td>05</td>\n",
       "      <td>0.0</td>\n",
       "    </tr>\n",
       "    <tr>\n",
       "      <th>2</th>\n",
       "      <td>05518254</td>\n",
       "      <td>3941467</td>\n",
       "      <td>05</td>\n",
       "      <td>1074-10-29</td>\n",
       "      <td>05</td>\n",
       "      <td>0.0</td>\n",
       "    </tr>\n",
       "    <tr>\n",
       "      <th>3</th>\n",
       "      <td>05518570</td>\n",
       "      <td>3936670</td>\n",
       "      <td>05</td>\n",
       "      <td>1074-10-29</td>\n",
       "      <td>05</td>\n",
       "      <td>0.0</td>\n",
       "    </tr>\n",
       "    <tr>\n",
       "      <th>4</th>\n",
       "      <td>05555245</td>\n",
       "      <td>4003574</td>\n",
       "      <td>05</td>\n",
       "      <td>1075-03-04</td>\n",
       "      <td>05</td>\n",
       "      <td>0.0</td>\n",
       "    </tr>\n",
       "    <tr>\n",
       "      <th>...</th>\n",
       "      <td>...</td>\n",
       "      <td>...</td>\n",
       "      <td>...</td>\n",
       "      <td>...</td>\n",
       "      <td>...</td>\n",
       "      <td>...</td>\n",
       "    </tr>\n",
       "    <tr>\n",
       "      <th>8887785</th>\n",
       "      <td>5786216</td>\n",
       "      <td>4135654</td>\n",
       "      <td>5</td>\n",
       "      <td>9177-04-11</td>\n",
       "      <td>05</td>\n",
       "      <td>0.0</td>\n",
       "    </tr>\n",
       "    <tr>\n",
       "      <th>8887786</th>\n",
       "      <td>5967990</td>\n",
       "      <td>4255928</td>\n",
       "      <td>5</td>\n",
       "      <td>9178-12-11</td>\n",
       "      <td>05</td>\n",
       "      <td>0.0</td>\n",
       "    </tr>\n",
       "    <tr>\n",
       "      <th>8887787</th>\n",
       "      <td>6474610</td>\n",
       "      <td>4474874</td>\n",
       "      <td>6</td>\n",
       "      <td>9183-03-11</td>\n",
       "      <td>06</td>\n",
       "      <td>0.0</td>\n",
       "    </tr>\n",
       "    <tr>\n",
       "      <th>8887788</th>\n",
       "      <td>6848010</td>\n",
       "      <td>4732727</td>\n",
       "      <td>6</td>\n",
       "      <td>9186-04-03</td>\n",
       "      <td>06</td>\n",
       "      <td>0.0</td>\n",
       "    </tr>\n",
       "    <tr>\n",
       "      <th>8887789</th>\n",
       "      <td>5629532</td>\n",
       "      <td>4078170</td>\n",
       "      <td>5</td>\n",
       "      <td>0975-11-06</td>\n",
       "      <td>05</td>\n",
       "      <td>0.0</td>\n",
       "    </tr>\n",
       "  </tbody>\n",
       "</table>\n",
       "<p>8887790 rows × 6 columns</p>\n",
       "</div>"
      ],
      "text/plain": [
       "        application_id patent_id patent_application_type filing_date  \\\n",
       "0             05497504   3963197                      05  1074-08-14   \n",
       "1             05508062   3933359                      05  1074-09-23   \n",
       "2             05518254   3941467                      05  1074-10-29   \n",
       "3             05518570   3936670                      05  1074-10-29   \n",
       "4             05555245   4003574                      05  1075-03-04   \n",
       "...                ...       ...                     ...         ...   \n",
       "8887785        5786216   4135654                       5  9177-04-11   \n",
       "8887786        5967990   4255928                       5  9178-12-11   \n",
       "8887787        6474610   4474874                       6  9183-03-11   \n",
       "8887788        6848010   4732727                       6  9186-04-03   \n",
       "8887789        5629532   4078170                       5  0975-11-06   \n",
       "\n",
       "        series_code  rule_47_flag  \n",
       "0                05           0.0  \n",
       "1                05           0.0  \n",
       "2                05           0.0  \n",
       "3                05           0.0  \n",
       "4                05           0.0  \n",
       "...             ...           ...  \n",
       "8887785          05           0.0  \n",
       "8887786          05           0.0  \n",
       "8887787          06           0.0  \n",
       "8887788          06           0.0  \n",
       "8887789          05           0.0  \n",
       "\n",
       "[8887790 rows x 6 columns]"
      ]
     },
     "execution_count": 11,
     "metadata": {},
     "output_type": "execute_result"
    }
   ],
   "source": [
    "data"
   ]
  },
  {
   "cell_type": "code",
   "execution_count": null,
   "id": "fd019633-49f8-49e8-a0e6-2c6ca4ced228",
   "metadata": {},
   "outputs": [],
   "source": []
  }
 ],
 "metadata": {
  "kernelspec": {
   "display_name": "Python 3 (ipykernel)",
   "language": "python",
   "name": "python3"
  },
  "language_info": {
   "codemirror_mode": {
    "name": "ipython",
    "version": 3
   },
   "file_extension": ".py",
   "mimetype": "text/x-python",
   "name": "python",
   "nbconvert_exporter": "python",
   "pygments_lexer": "ipython3",
   "version": "3.12.4"
  }
 },
 "nbformat": 4,
 "nbformat_minor": 5
}
