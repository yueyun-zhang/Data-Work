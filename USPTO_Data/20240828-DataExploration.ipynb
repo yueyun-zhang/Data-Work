{
 "cells": [
  {
   "cell_type": "markdown",
   "id": "f32ec163-ce58-4b0b-8c57-80f3f70bd7d3",
   "metadata": {},
   "source": [
    "# Data Exploration of USPTO Data"
   ]
  },
  {
   "cell_type": "markdown",
   "id": "ce4cc247-1853-4a20-a0b2-a5c8e4ff4063",
   "metadata": {
    "jp-MarkdownHeadingCollapsed": true
   },
   "source": [
    "This document is initiated in August 2024. We are exploring several public datasets published by USPTO.\n",
    "\n",
    "USPTO is hosting datasets at different pltaforms:\n",
    "- https://developer.uspto.gov/data?f%5B0%5D=product_category%3A39198&f%5B1%5D=published_datasets%3A39166\n",
    "- https://patentsview.org/download/data-download-tables\n",
    "- https://patentsview.org/apis/purpose \n",
    "The first two links provide datasets available for download. The latter is an API where we can retrieve the data.\n",
    "\n",
    "Both grants and application data are available. However, grants is only available after 2001. Application data is available after 1980. \n",
    "The datasets are split into several sub-datasets, where we can link by location id, inventor id, patent id and document id. For the following, I linked datasets on inventors and location based on location id and then it is linked to the overall patent grant dataset.\n"
   ]
  },
  {
   "cell_type": "code",
   "execution_count": 6,
   "id": "5ec41e24-95b4-4fbd-a49c-d92a71dd7d03",
   "metadata": {},
   "outputs": [],
   "source": [
    "# libraries\n",
    "import pandas as pd\n",
    "import numpy as np\n",
    "from os import listdir\n",
    "import matplotlib.pyplot as plt"
   ]
  },
  {
   "cell_type": "markdown",
   "id": "9b80d011-c876-41b7-a45e-bdbd2637bef2",
   "metadata": {},
   "source": [
    "## Cockburn (2022)"
   ]
  },
  {
   "cell_type": "markdown",
   "id": "cbf7a367-e9e7-4521-8d43-4a456ffb540f",
   "metadata": {},
   "source": [
    "After initial data exploration, the most appropriate datasets to replicate his paper are \"historical masterfile\" and \"patent examination research dataset\". The two datasets can be matched by application ID. \n",
    "\n",
    "- Historical masterfile contains information on publication number, patent number, NBER number, USPC number, application date, prior date, disposal date, application number, as well as other information. \n",
    "- Patent examination research dataset provides information on the parent country, foreign parent ID, foreign parent date and application number. "
   ]
  },
  {
   "cell_type": "code",
   "execution_count": 7,
   "id": "ffc6bb32-6df4-4ed7-ac72-c4b69e2545e7",
   "metadata": {},
   "outputs": [],
   "source": [
    "location = pd.read_csv(\"data/g_location_not_disambiguated.tsv\", sep='\\t') "
   ]
  },
  {
   "cell_type": "code",
   "execution_count": 8,
   "id": "7840a37c-d29d-429f-8fab-76daa3d3b84d",
   "metadata": {},
   "outputs": [],
   "source": [
    "location = location[location['raw_country']==\"CA\"]"
   ]
  },
  {
   "cell_type": "code",
   "execution_count": 9,
   "id": "a93846c4-0c55-4d82-acb2-f0da2cc3a43b",
   "metadata": {},
   "outputs": [],
   "source": [
    "applicants = pd.read_csv(\"data/g_inventor_not_disambiguated.tsv\", sep='\\t') "
   ]
  },
  {
   "cell_type": "code",
   "execution_count": 10,
   "id": "34243102-ca57-4cd1-ba4c-52e5f7039791",
   "metadata": {},
   "outputs": [
    {
     "name": "stderr",
     "output_type": "stream",
     "text": [
      "/var/folders/_c/hqgq6n0s7yl267nvktc1m9l00000gn/T/ipykernel_2290/1237273552.py:1: DtypeWarning: Columns (0) have mixed types. Specify dtype option on import or set low_memory=False.\n",
      "  applications = pd.read_csv(\"data/g_patent.tsv\", sep='\\t')\n"
     ]
    }
   ],
   "source": [
    "applications = pd.read_csv(\"data/g_patent.tsv\", sep='\\t') "
   ]
  },
  {
   "cell_type": "code",
   "execution_count": 34,
   "id": "af3680f8-3ab6-4ac0-bf05-3760cd18fa84",
   "metadata": {},
   "outputs": [],
   "source": [
    "data = pd.merge(applicants, location, how='left', on =[\"rawlocation_id\"])"
   ]
  },
  {
   "cell_type": "code",
   "execution_count": 36,
   "id": "80f3024e-994e-494f-9980-9ec12d88d5ae",
   "metadata": {},
   "outputs": [
    {
     "data": {
      "text/html": [
       "<div>\n",
       "<style scoped>\n",
       "    .dataframe tbody tr th:only-of-type {\n",
       "        vertical-align: middle;\n",
       "    }\n",
       "\n",
       "    .dataframe tbody tr th {\n",
       "        vertical-align: top;\n",
       "    }\n",
       "\n",
       "    .dataframe thead th {\n",
       "        text-align: right;\n",
       "    }\n",
       "</style>\n",
       "<table border=\"1\" class=\"dataframe\">\n",
       "  <thead>\n",
       "    <tr style=\"text-align: right;\">\n",
       "      <th></th>\n",
       "      <th>rawlocation_id</th>\n",
       "      <th>location_id</th>\n",
       "      <th>raw_city</th>\n",
       "      <th>raw_state</th>\n",
       "      <th>raw_country</th>\n",
       "    </tr>\n",
       "  </thead>\n",
       "  <tbody>\n",
       "    <tr>\n",
       "      <th>100</th>\n",
       "      <td>000442yn32agr3e7zx673y6ra</td>\n",
       "      <td>558a0fbd-16c8-11ed-9b5f-1234bde3cd05</td>\n",
       "      <td>Thornhill</td>\n",
       "      <td>NaN</td>\n",
       "      <td>CA</td>\n",
       "    </tr>\n",
       "  </tbody>\n",
       "</table>\n",
       "</div>"
      ],
      "text/plain": [
       "                rawlocation_id                           location_id  \\\n",
       "100  000442yn32agr3e7zx673y6ra  558a0fbd-16c8-11ed-9b5f-1234bde3cd05   \n",
       "\n",
       "      raw_city raw_state raw_country  \n",
       "100  Thornhill       NaN          CA  "
      ]
     },
     "execution_count": 36,
     "metadata": {},
     "output_type": "execute_result"
    }
   ],
   "source": [
    "location.head(1)"
   ]
  },
  {
   "cell_type": "code",
   "execution_count": 37,
   "id": "4a9aabe3-8190-4f8d-b265-fd418c09a64b",
   "metadata": {},
   "outputs": [
    {
     "data": {
      "text/html": [
       "<div>\n",
       "<style scoped>\n",
       "    .dataframe tbody tr th:only-of-type {\n",
       "        vertical-align: middle;\n",
       "    }\n",
       "\n",
       "    .dataframe tbody tr th {\n",
       "        vertical-align: top;\n",
       "    }\n",
       "\n",
       "    .dataframe thead th {\n",
       "        text-align: right;\n",
       "    }\n",
       "</style>\n",
       "<table border=\"1\" class=\"dataframe\">\n",
       "  <thead>\n",
       "    <tr style=\"text-align: right;\">\n",
       "      <th></th>\n",
       "      <th>patent_id</th>\n",
       "      <th>inventor_sequence</th>\n",
       "      <th>inventor_id</th>\n",
       "      <th>raw_inventor_name_first</th>\n",
       "      <th>raw_inventor_name_last</th>\n",
       "      <th>deceased_flag</th>\n",
       "      <th>rawlocation_id</th>\n",
       "    </tr>\n",
       "  </thead>\n",
       "  <tbody>\n",
       "    <tr>\n",
       "      <th>0</th>\n",
       "      <td>D1006496</td>\n",
       "      <td>0</td>\n",
       "      <td>fl:we_ln:jiang-145</td>\n",
       "      <td>Wenjing</td>\n",
       "      <td>Jiang</td>\n",
       "      <td>0</td>\n",
       "      <td>30zgod902k0u495w9b2sb8xk9</td>\n",
       "    </tr>\n",
       "  </tbody>\n",
       "</table>\n",
       "</div>"
      ],
      "text/plain": [
       "  patent_id  inventor_sequence         inventor_id raw_inventor_name_first  \\\n",
       "0  D1006496                  0  fl:we_ln:jiang-145                 Wenjing   \n",
       "\n",
       "  raw_inventor_name_last deceased_flag             rawlocation_id  \n",
       "0                  Jiang             0  30zgod902k0u495w9b2sb8xk9  "
      ]
     },
     "execution_count": 37,
     "metadata": {},
     "output_type": "execute_result"
    }
   ],
   "source": [
    "applicants.head(1)"
   ]
  },
  {
   "cell_type": "code",
   "execution_count": 38,
   "id": "583479ec-0c55-45ee-8705-06401ff3d29c",
   "metadata": {},
   "outputs": [
    {
     "data": {
      "text/html": [
       "<div>\n",
       "<style scoped>\n",
       "    .dataframe tbody tr th:only-of-type {\n",
       "        vertical-align: middle;\n",
       "    }\n",
       "\n",
       "    .dataframe tbody tr th {\n",
       "        vertical-align: top;\n",
       "    }\n",
       "\n",
       "    .dataframe thead th {\n",
       "        text-align: right;\n",
       "    }\n",
       "</style>\n",
       "<table border=\"1\" class=\"dataframe\">\n",
       "  <thead>\n",
       "    <tr style=\"text-align: right;\">\n",
       "      <th></th>\n",
       "      <th>patent_id</th>\n",
       "      <th>patent_type</th>\n",
       "      <th>patent_date</th>\n",
       "      <th>patent_title</th>\n",
       "      <th>wipo_kind</th>\n",
       "      <th>num_claims</th>\n",
       "      <th>withdrawn</th>\n",
       "      <th>filename</th>\n",
       "    </tr>\n",
       "  </thead>\n",
       "  <tbody>\n",
       "    <tr>\n",
       "      <th>0</th>\n",
       "      <td>10000000</td>\n",
       "      <td>utility</td>\n",
       "      <td>2018-06-19</td>\n",
       "      <td>Coherent LADAR using intra-pixel quadrature de...</td>\n",
       "      <td>B2</td>\n",
       "      <td>20</td>\n",
       "      <td>0</td>\n",
       "      <td>ipg180619.xml</td>\n",
       "    </tr>\n",
       "  </tbody>\n",
       "</table>\n",
       "</div>"
      ],
      "text/plain": [
       "  patent_id patent_type patent_date  \\\n",
       "0  10000000     utility  2018-06-19   \n",
       "\n",
       "                                        patent_title wipo_kind  num_claims  \\\n",
       "0  Coherent LADAR using intra-pixel quadrature de...        B2          20   \n",
       "\n",
       "   withdrawn       filename  \n",
       "0          0  ipg180619.xml  "
      ]
     },
     "execution_count": 38,
     "metadata": {},
     "output_type": "execute_result"
    }
   ],
   "source": [
    "applications.head(1)"
   ]
  },
  {
   "cell_type": "code",
   "execution_count": 40,
   "id": "ac7aaed6-8406-40d5-9711-df648d5cfd2d",
   "metadata": {},
   "outputs": [],
   "source": [
    "data = data[[\"patent_id\", \"raw_country\"]]"
   ]
  },
  {
   "cell_type": "code",
   "execution_count": 41,
   "id": "8b4011bf-cedd-498a-84b4-6f4c242e48c7",
   "metadata": {},
   "outputs": [],
   "source": [
    "data1 = pd.merge(data, applications, on = [\"patent_id\"])"
   ]
  },
  {
   "cell_type": "code",
   "execution_count": 42,
   "id": "6bc27404-394b-4fa6-8cff-a6c80e64d7b3",
   "metadata": {},
   "outputs": [
    {
     "data": {
      "text/plain": [
       "1706532"
      ]
     },
     "execution_count": 42,
     "metadata": {},
     "output_type": "execute_result"
    }
   ],
   "source": [
    "len(data1)"
   ]
  },
  {
   "cell_type": "code",
   "execution_count": 43,
   "id": "abd6838d-d0fc-4ede-b2f5-b2da6feaa51c",
   "metadata": {},
   "outputs": [],
   "source": [
    "data1['patent_date'] = pd.to_datetime(data1['patent_date'])"
   ]
  },
  {
   "cell_type": "code",
   "execution_count": 44,
   "id": "fe15755e-4668-48f6-8c4f-1a57078c74ca",
   "metadata": {},
   "outputs": [],
   "source": [
    "data1 = data1[data1['patent_id'].notnull()]"
   ]
  },
  {
   "cell_type": "code",
   "execution_count": 153,
   "id": "43b0de3a-5f83-43cf-a4f3-84792224f66d",
   "metadata": {},
   "outputs": [
    {
     "name": "stderr",
     "output_type": "stream",
     "text": [
      "/var/folders/_c/hqgq6n0s7yl267nvktc1m9l00000gn/T/ipykernel_2290/3930152286.py:1: SettingWithCopyWarning: \n",
      "A value is trying to be set on a copy of a slice from a DataFrame.\n",
      "Try using .loc[row_indexer,col_indexer] = value instead\n",
      "\n",
      "See the caveats in the documentation: https://pandas.pydata.org/pandas-docs/stable/user_guide/indexing.html#returning-a-view-versus-a-copy\n",
      "  data1[\"application_year\"] = data1[\"patent_date\"].dt.year\n"
     ]
    }
   ],
   "source": [
    "data1[\"year\"] = data1[\"patent_date\"].dt.year"
   ]
  },
  {
   "cell_type": "code",
   "execution_count": 154,
   "id": "2b3bf770-81b1-4bab-9d74-5ff24545062a",
   "metadata": {},
   "outputs": [
    {
     "name": "stderr",
     "output_type": "stream",
     "text": [
      "/var/folders/_c/hqgq6n0s7yl267nvktc1m9l00000gn/T/ipykernel_2290/1376905022.py:1: SettingWithCopyWarning: \n",
      "A value is trying to be set on a copy of a slice from a DataFrame.\n",
      "Try using .loc[row_indexer,col_indexer] = value instead\n",
      "\n",
      "See the caveats in the documentation: https://pandas.pydata.org/pandas-docs/stable/user_guide/indexing.html#returning-a-view-versus-a-copy\n",
      "  data1[\"disposal_year\"] = data1[\"year\"]+20\n"
     ]
    }
   ],
   "source": [
    "data1[\"disposal_year\"] = data1[\"year\"]+20"
   ]
  },
  {
   "cell_type": "code",
   "execution_count": 114,
   "id": "d8ad93d6-eaba-45e3-8622-eaedc6704186",
   "metadata": {},
   "outputs": [],
   "source": [
    "data1 = data1.drop_duplicates(subset = 'patent_id')"
   ]
  },
  {
   "cell_type": "code",
   "execution_count": 167,
   "id": "95195112-3bf1-465e-8bc4-5eb90a0964eb",
   "metadata": {},
   "outputs": [],
   "source": [
    "application_inflow = data1.groupby('year').size().reset_index(name='counts')"
   ]
  },
  {
   "cell_type": "code",
   "execution_count": 168,
   "id": "8d12392c-e1f8-449e-87f0-efd12f17a18f",
   "metadata": {},
   "outputs": [],
   "source": [
    "disposal_outflow = data1.groupby('disposal_year').size().reset_index(name='counts')"
   ]
  },
  {
   "cell_type": "code",
   "execution_count": 172,
   "id": "91884c57-e309-40b9-a2f7-279bab83edf8",
   "metadata": {},
   "outputs": [],
   "source": [
    "disposal_outflow['year'] = disposal_outflow['disposal_year']"
   ]
  },
  {
   "cell_type": "code",
   "execution_count": 178,
   "id": "3fada492-4a98-473e-a2bd-700ae99f39c3",
   "metadata": {},
   "outputs": [],
   "source": [
    "flow = pd.merge(application_inflow, disposal_outflow, how = \"outer\", on=[\"year\"]).dropna()"
   ]
  },
  {
   "cell_type": "code",
   "execution_count": 183,
   "id": "3f184841-9651-432f-9222-9d2bbc5e89e3",
   "metadata": {},
   "outputs": [],
   "source": [
    "flow['flow'] = flow['counts_x'] - flow['counts_y']"
   ]
  },
  {
   "cell_type": "code",
   "execution_count": 184,
   "id": "08278548-a4f9-47d7-b279-a11174b5c23c",
   "metadata": {},
   "outputs": [
    {
     "data": {
      "text/html": [
       "<div>\n",
       "<style scoped>\n",
       "    .dataframe tbody tr th:only-of-type {\n",
       "        vertical-align: middle;\n",
       "    }\n",
       "\n",
       "    .dataframe tbody tr th {\n",
       "        vertical-align: top;\n",
       "    }\n",
       "\n",
       "    .dataframe thead th {\n",
       "        text-align: right;\n",
       "    }\n",
       "</style>\n",
       "<table border=\"1\" class=\"dataframe\">\n",
       "  <thead>\n",
       "    <tr style=\"text-align: right;\">\n",
       "      <th></th>\n",
       "      <th>year</th>\n",
       "      <th>counts_x</th>\n",
       "      <th>disposal_year</th>\n",
       "      <th>counts_y</th>\n",
       "      <th>flow</th>\n",
       "    </tr>\n",
       "  </thead>\n",
       "  <tbody>\n",
       "    <tr>\n",
       "      <th>20</th>\n",
       "      <td>1996</td>\n",
       "      <td>12156.0</td>\n",
       "      <td>1996.0</td>\n",
       "      <td>742.0</td>\n",
       "      <td>11414.0</td>\n",
       "    </tr>\n",
       "    <tr>\n",
       "      <th>21</th>\n",
       "      <td>1997</td>\n",
       "      <td>12160.0</td>\n",
       "      <td>1997.0</td>\n",
       "      <td>4610.0</td>\n",
       "      <td>7550.0</td>\n",
       "    </tr>\n",
       "    <tr>\n",
       "      <th>22</th>\n",
       "      <td>1998</td>\n",
       "      <td>15689.0</td>\n",
       "      <td>1998.0</td>\n",
       "      <td>4498.0</td>\n",
       "      <td>11191.0</td>\n",
       "    </tr>\n",
       "    <tr>\n",
       "      <th>23</th>\n",
       "      <td>1999</td>\n",
       "      <td>15660.0</td>\n",
       "      <td>1999.0</td>\n",
       "      <td>3642.0</td>\n",
       "      <td>12018.0</td>\n",
       "    </tr>\n",
       "    <tr>\n",
       "      <th>24</th>\n",
       "      <td>2000</td>\n",
       "      <td>18595.0</td>\n",
       "      <td>2000.0</td>\n",
       "      <td>4398.0</td>\n",
       "      <td>14197.0</td>\n",
       "    </tr>\n",
       "    <tr>\n",
       "      <th>25</th>\n",
       "      <td>2001</td>\n",
       "      <td>18012.0</td>\n",
       "      <td>2001.0</td>\n",
       "      <td>5341.0</td>\n",
       "      <td>12671.0</td>\n",
       "    </tr>\n",
       "    <tr>\n",
       "      <th>26</th>\n",
       "      <td>2002</td>\n",
       "      <td>17045.0</td>\n",
       "      <td>2002.0</td>\n",
       "      <td>5415.0</td>\n",
       "      <td>11630.0</td>\n",
       "    </tr>\n",
       "    <tr>\n",
       "      <th>27</th>\n",
       "      <td>2003</td>\n",
       "      <td>17991.0</td>\n",
       "      <td>2003.0</td>\n",
       "      <td>5152.0</td>\n",
       "      <td>12839.0</td>\n",
       "    </tr>\n",
       "    <tr>\n",
       "      <th>28</th>\n",
       "      <td>2004</td>\n",
       "      <td>17009.0</td>\n",
       "      <td>2004.0</td>\n",
       "      <td>5472.0</td>\n",
       "      <td>11537.0</td>\n",
       "    </tr>\n",
       "    <tr>\n",
       "      <th>29</th>\n",
       "      <td>2005</td>\n",
       "      <td>13915.0</td>\n",
       "      <td>2005.0</td>\n",
       "      <td>5605.0</td>\n",
       "      <td>8310.0</td>\n",
       "    </tr>\n",
       "    <tr>\n",
       "      <th>30</th>\n",
       "      <td>2006</td>\n",
       "      <td>22635.0</td>\n",
       "      <td>2006.0</td>\n",
       "      <td>6176.0</td>\n",
       "      <td>16459.0</td>\n",
       "    </tr>\n",
       "    <tr>\n",
       "      <th>31</th>\n",
       "      <td>2007</td>\n",
       "      <td>25618.0</td>\n",
       "      <td>2007.0</td>\n",
       "      <td>6644.0</td>\n",
       "      <td>18974.0</td>\n",
       "    </tr>\n",
       "    <tr>\n",
       "      <th>32</th>\n",
       "      <td>2008</td>\n",
       "      <td>27452.0</td>\n",
       "      <td>2008.0</td>\n",
       "      <td>6511.0</td>\n",
       "      <td>20941.0</td>\n",
       "    </tr>\n",
       "    <tr>\n",
       "      <th>33</th>\n",
       "      <td>2009</td>\n",
       "      <td>24583.0</td>\n",
       "      <td>2009.0</td>\n",
       "      <td>7148.0</td>\n",
       "      <td>17435.0</td>\n",
       "    </tr>\n",
       "    <tr>\n",
       "      <th>34</th>\n",
       "      <td>2010</td>\n",
       "      <td>24734.0</td>\n",
       "      <td>2010.0</td>\n",
       "      <td>8850.0</td>\n",
       "      <td>15884.0</td>\n",
       "    </tr>\n",
       "    <tr>\n",
       "      <th>35</th>\n",
       "      <td>2011</td>\n",
       "      <td>23215.0</td>\n",
       "      <td>2011.0</td>\n",
       "      <td>10325.0</td>\n",
       "      <td>12890.0</td>\n",
       "    </tr>\n",
       "    <tr>\n",
       "      <th>36</th>\n",
       "      <td>2012</td>\n",
       "      <td>23644.0</td>\n",
       "      <td>2012.0</td>\n",
       "      <td>10063.0</td>\n",
       "      <td>13581.0</td>\n",
       "    </tr>\n",
       "    <tr>\n",
       "      <th>37</th>\n",
       "      <td>2013</td>\n",
       "      <td>25126.0</td>\n",
       "      <td>2013.0</td>\n",
       "      <td>11539.0</td>\n",
       "      <td>13587.0</td>\n",
       "    </tr>\n",
       "    <tr>\n",
       "      <th>38</th>\n",
       "      <td>2014</td>\n",
       "      <td>25365.0</td>\n",
       "      <td>2014.0</td>\n",
       "      <td>12024.0</td>\n",
       "      <td>13341.0</td>\n",
       "    </tr>\n",
       "    <tr>\n",
       "      <th>39</th>\n",
       "      <td>2015</td>\n",
       "      <td>27587.0</td>\n",
       "      <td>2015.0</td>\n",
       "      <td>12519.0</td>\n",
       "      <td>15068.0</td>\n",
       "    </tr>\n",
       "    <tr>\n",
       "      <th>40</th>\n",
       "      <td>2016</td>\n",
       "      <td>30548.0</td>\n",
       "      <td>2016.0</td>\n",
       "      <td>12156.0</td>\n",
       "      <td>18392.0</td>\n",
       "    </tr>\n",
       "    <tr>\n",
       "      <th>41</th>\n",
       "      <td>2017</td>\n",
       "      <td>32584.0</td>\n",
       "      <td>2017.0</td>\n",
       "      <td>12160.0</td>\n",
       "      <td>20424.0</td>\n",
       "    </tr>\n",
       "    <tr>\n",
       "      <th>42</th>\n",
       "      <td>2018</td>\n",
       "      <td>81766.0</td>\n",
       "      <td>2018.0</td>\n",
       "      <td>15689.0</td>\n",
       "      <td>66077.0</td>\n",
       "    </tr>\n",
       "    <tr>\n",
       "      <th>43</th>\n",
       "      <td>2019</td>\n",
       "      <td>36695.0</td>\n",
       "      <td>2019.0</td>\n",
       "      <td>15660.0</td>\n",
       "      <td>21035.0</td>\n",
       "    </tr>\n",
       "    <tr>\n",
       "      <th>44</th>\n",
       "      <td>2020</td>\n",
       "      <td>36871.0</td>\n",
       "      <td>2020.0</td>\n",
       "      <td>18595.0</td>\n",
       "      <td>18276.0</td>\n",
       "    </tr>\n",
       "    <tr>\n",
       "      <th>45</th>\n",
       "      <td>2021</td>\n",
       "      <td>34732.0</td>\n",
       "      <td>2021.0</td>\n",
       "      <td>18012.0</td>\n",
       "      <td>16720.0</td>\n",
       "    </tr>\n",
       "    <tr>\n",
       "      <th>46</th>\n",
       "      <td>2022</td>\n",
       "      <td>35719.0</td>\n",
       "      <td>2022.0</td>\n",
       "      <td>17045.0</td>\n",
       "      <td>18674.0</td>\n",
       "    </tr>\n",
       "    <tr>\n",
       "      <th>47</th>\n",
       "      <td>2023</td>\n",
       "      <td>36386.0</td>\n",
       "      <td>2023.0</td>\n",
       "      <td>17991.0</td>\n",
       "      <td>18395.0</td>\n",
       "    </tr>\n",
       "    <tr>\n",
       "      <th>48</th>\n",
       "      <td>2024</td>\n",
       "      <td>24149.0</td>\n",
       "      <td>2024.0</td>\n",
       "      <td>17009.0</td>\n",
       "      <td>7140.0</td>\n",
       "    </tr>\n",
       "  </tbody>\n",
       "</table>\n",
       "</div>"
      ],
      "text/plain": [
       "    year  counts_x  disposal_year  counts_y     flow\n",
       "20  1996   12156.0         1996.0     742.0  11414.0\n",
       "21  1997   12160.0         1997.0    4610.0   7550.0\n",
       "22  1998   15689.0         1998.0    4498.0  11191.0\n",
       "23  1999   15660.0         1999.0    3642.0  12018.0\n",
       "24  2000   18595.0         2000.0    4398.0  14197.0\n",
       "25  2001   18012.0         2001.0    5341.0  12671.0\n",
       "26  2002   17045.0         2002.0    5415.0  11630.0\n",
       "27  2003   17991.0         2003.0    5152.0  12839.0\n",
       "28  2004   17009.0         2004.0    5472.0  11537.0\n",
       "29  2005   13915.0         2005.0    5605.0   8310.0\n",
       "30  2006   22635.0         2006.0    6176.0  16459.0\n",
       "31  2007   25618.0         2007.0    6644.0  18974.0\n",
       "32  2008   27452.0         2008.0    6511.0  20941.0\n",
       "33  2009   24583.0         2009.0    7148.0  17435.0\n",
       "34  2010   24734.0         2010.0    8850.0  15884.0\n",
       "35  2011   23215.0         2011.0   10325.0  12890.0\n",
       "36  2012   23644.0         2012.0   10063.0  13581.0\n",
       "37  2013   25126.0         2013.0   11539.0  13587.0\n",
       "38  2014   25365.0         2014.0   12024.0  13341.0\n",
       "39  2015   27587.0         2015.0   12519.0  15068.0\n",
       "40  2016   30548.0         2016.0   12156.0  18392.0\n",
       "41  2017   32584.0         2017.0   12160.0  20424.0\n",
       "42  2018   81766.0         2018.0   15689.0  66077.0\n",
       "43  2019   36695.0         2019.0   15660.0  21035.0\n",
       "44  2020   36871.0         2020.0   18595.0  18276.0\n",
       "45  2021   34732.0         2021.0   18012.0  16720.0\n",
       "46  2022   35719.0         2022.0   17045.0  18674.0\n",
       "47  2023   36386.0         2023.0   17991.0  18395.0\n",
       "48  2024   24149.0         2024.0   17009.0   7140.0"
      ]
     },
     "execution_count": 184,
     "metadata": {},
     "output_type": "execute_result"
    }
   ],
   "source": [
    "flow"
   ]
  },
  {
   "cell_type": "code",
   "execution_count": 185,
   "id": "8657b075-548f-4790-9c17-f1dca56f0adc",
   "metadata": {},
   "outputs": [
    {
     "data": {
      "text/plain": [
       "<Axes: xlabel='year'>"
      ]
     },
     "execution_count": 185,
     "metadata": {},
     "output_type": "execute_result"
    },
    {
     "data": {
      "image/png": "[encoded data removed]",
      "text/plain": [
       "<Figure size 640x480 with 1 Axes>"
      ]
     },
     "metadata": {},
     "output_type": "display_data"
    }
   ],
   "source": [
    "flow.plot(x=\"year\", y=\"flow\")"
   ]
  },
  {
   "cell_type": "code",
   "execution_count": 186,
   "id": "ebdbc40f-1b70-449c-a11b-36e0b387b7e2",
   "metadata": {},
   "outputs": [],
   "source": [
    "count_agg_year = count_agg_year[count_agg_year['year']>=1990]"
   ]
  },
  {
   "cell_type": "code",
   "execution_count": 195,
   "id": "24b4fd3f-3b82-4d8b-8f79-41c61702f9a3",
   "metadata": {},
   "outputs": [],
   "source": [
    "count_agg_year = count_agg_year[count_agg_year['year']<=2017]"
   ]
  },
  {
   "cell_type": "code",
   "execution_count": 196,
   "id": "16468d04-c993-4397-9242-263d8b870401",
   "metadata": {},
   "outputs": [],
   "source": [
    "count_agg_year = count_agg_year.reset_index()"
   ]
  },
  {
   "cell_type": "code",
   "execution_count": 197,
   "id": "394d707f-3596-4b4e-ae26-83e09baed413",
   "metadata": {},
   "outputs": [],
   "source": [
    "population = pd.read_csv(\"data/canada-population.csv\") "
   ]
  },
  {
   "cell_type": "code",
   "execution_count": 198,
   "id": "cb944358-b845-4dfb-a014-b837866f59c7",
   "metadata": {},
   "outputs": [],
   "source": [
    "count_agg_year['pop']=population[['pop']]"
   ]
  },
  {
   "cell_type": "code",
   "execution_count": 199,
   "id": "ebadb349-8cf2-4a25-9596-13ff9c7b400f",
   "metadata": {},
   "outputs": [],
   "source": [
    "count_agg_year['data'] = count_agg_year['counts']/count_agg_year['pop']"
   ]
  },
  {
   "cell_type": "code",
   "execution_count": 200,
   "id": "dadc8855-6c12-4f64-a682-326ef46f2b5c",
   "metadata": {},
   "outputs": [],
   "source": [
    "num = count_agg_year.iloc[0]['data']"
   ]
  },
  {
   "cell_type": "code",
   "execution_count": 201,
   "id": "6e216194-3594-4f63-8d3a-8a44cf846835",
   "metadata": {},
   "outputs": [],
   "source": [
    "count_agg_year['data'] = count_agg_year['data']/ num"
   ]
  },
  {
   "cell_type": "code",
   "execution_count": 202,
   "id": "e766d689-0008-4542-b145-aa1e6db99114",
   "metadata": {},
   "outputs": [
    {
     "data": {
      "text/plain": [
       "<Axes: xlabel='year'>"
      ]
     },
     "execution_count": 202,
     "metadata": {},
     "output_type": "execute_result"
    },
    {
     "data": {
      "image/png": "[encoded data removed]",
      "text/plain": [
       "<Figure size 640x480 with 1 Axes>"
      ]
     },
     "metadata": {},
     "output_type": "display_data"
    }
   ],
   "source": [
    "count_agg_year.plot(x=\"year\", y='data')"
   ]
  },
  {
   "cell_type": "code",
   "execution_count": 206,
   "id": "1e2a235b-eb5b-466e-9a07-0c914611dfd2",
   "metadata": {},
   "outputs": [
    {
     "data": {
      "text/html": [
       "<div>\n",
       "<style scoped>\n",
       "    .dataframe tbody tr th:only-of-type {\n",
       "        vertical-align: middle;\n",
       "    }\n",
       "\n",
       "    .dataframe tbody tr th {\n",
       "        vertical-align: top;\n",
       "    }\n",
       "\n",
       "    .dataframe thead th {\n",
       "        text-align: right;\n",
       "    }\n",
       "</style>\n",
       "<table border=\"1\" class=\"dataframe\">\n",
       "  <thead>\n",
       "    <tr style=\"text-align: right;\">\n",
       "      <th></th>\n",
       "      <th>year</th>\n",
       "      <th>counts_x</th>\n",
       "      <th>disposal_year</th>\n",
       "      <th>counts_y</th>\n",
       "      <th>flow</th>\n",
       "    </tr>\n",
       "  </thead>\n",
       "  <tbody>\n",
       "    <tr>\n",
       "      <th>20</th>\n",
       "      <td>1996</td>\n",
       "      <td>12156.0</td>\n",
       "      <td>1996.0</td>\n",
       "      <td>742.0</td>\n",
       "      <td>11414.0</td>\n",
       "    </tr>\n",
       "    <tr>\n",
       "      <th>21</th>\n",
       "      <td>1997</td>\n",
       "      <td>12160.0</td>\n",
       "      <td>1997.0</td>\n",
       "      <td>4610.0</td>\n",
       "      <td>7550.0</td>\n",
       "    </tr>\n",
       "    <tr>\n",
       "      <th>22</th>\n",
       "      <td>1998</td>\n",
       "      <td>15689.0</td>\n",
       "      <td>1998.0</td>\n",
       "      <td>4498.0</td>\n",
       "      <td>11191.0</td>\n",
       "    </tr>\n",
       "  </tbody>\n",
       "</table>\n",
       "</div>"
      ],
      "text/plain": [
       "    year  counts_x  disposal_year  counts_y     flow\n",
       "20  1996   12156.0         1996.0     742.0  11414.0\n",
       "21  1997   12160.0         1997.0    4610.0   7550.0\n",
       "22  1998   15689.0         1998.0    4498.0  11191.0"
      ]
     },
     "execution_count": 206,
     "metadata": {},
     "output_type": "execute_result"
    }
   ],
   "source": [
    "flow.head(3)"
   ]
  },
  {
   "cell_type": "code",
   "execution_count": 204,
   "id": "ef3d7770-57e6-442b-8c3a-e172a12c81ce",
   "metadata": {},
   "outputs": [],
   "source": [
    "cpc = pd.read_csv(\"data/g_cpc_at_issue.tsv\", sep='\\t') "
   ]
  },
  {
   "cell_type": "code",
   "execution_count": 212,
   "id": "d51691af-7e3e-4fa3-ad0e-ea9d3181284e",
   "metadata": {},
   "outputs": [],
   "source": [
    "data2 = pd.merge(data1, cpc, on=['patent_id'])"
   ]
  },
  {
   "cell_type": "code",
   "execution_count": 219,
   "id": "af6ce624-191f-4e26-a41f-dfdb7ffd995e",
   "metadata": {},
   "outputs": [],
   "source": [
    "data2= data2[['year','cpc_section_y']]"
   ]
  },
  {
   "cell_type": "code",
   "execution_count": 222,
   "id": "d476f310-9d69-4ba5-a20c-3cde213041a4",
   "metadata": {},
   "outputs": [
    {
     "data": {
      "text/plain": [
       "array([2018, 2019, 2023, 2014, 2020, 2016, 2021, 2015, 2022, 2017, 2024,\n",
       "       2013], dtype=int32)"
      ]
     },
     "execution_count": 222,
     "metadata": {},
     "output_type": "execute_result"
    }
   ],
   "source": [
    "data2['year'].unique()"
   ]
  }
 ],
 "metadata": {
  "kernelspec": {
   "display_name": "Python 3 (ipykernel)",
   "language": "python",
   "name": "python3"
  },
  "language_info": {
   "codemirror_mode": {
    "name": "ipython",
    "version": 3
   },
   "file_extension": ".py",
   "mimetype": "text/x-python",
   "name": "python",
   "nbconvert_exporter": "python",
   "pygments_lexer": "ipython3",
   "version": "3.12.4"
  }
 },
 "nbformat": 4,
 "nbformat_minor": 5
}
