{
 "cells": [
  {
   "cell_type": "markdown",
   "id": "f32ec163-ce58-4b0b-8c57-80f3f70bd7d3",
   "metadata": {},
   "source": [
    "# Data Exploration of USPTO Data"
   ]
  },
  {
   "cell_type": "markdown",
   "id": "ce4cc247-1853-4a20-a0b2-a5c8e4ff4063",
   "metadata": {
    "jp-MarkdownHeadingCollapsed": true
   },
   "source": [
    "This document is initiated in August 2024. We are exploring several public datasets published by USPTO.\n",
    "Here are the files as well as their publicly available explanation.\n",
    "\n",
    "- Patent assignment economics data (stata (.dta) and MS excel (.csv)): Contains detailed information on roughly 10.0 million patent assignments and other transactions recorded at the USPTO since 1970 and involving roughly 17.8 million patents and patent applications. For more information: http://www.uspto.gov/learning-and-resources/electronic-data-products/data\n",
    "\n",
    "- Patent examination research dataset (stata (.dta) and MS excel : Contains detailed information on more than 13 million publicly viewable patent applications filed with the USPTO along with more than 1 million PCT applications through June 2023. The data files include information on each application's characteristics, prosecution history, continuation history, claims of foreign priority, patent term adjustment history, publication history, and correspondence address information.\n",
    "\n",
    "- Patent application full text data/XML: Contains (MAR 15, 2001 - present) the full text of each patent application (non-provisional utility and plant) published weekly (Thursdays) (excludes images/drawings). The file format is eXtensible Markup Language (XML) in accordance with the Patent Application International Common Element (ICE) Document Type Definition (DTD).\n",
    "\n",
    "- Historical masterfile: The historical_masterfile contains micro-level application, NBER sub-category, and prosecution data on 2.2 million patent applications filed from 1981 to 2015 and 8.9 million patents issued through 2014.\n",
    "\n",
    "- https://patentsview.org/download/data-download-tables\n"
   ]
  },
  {
   "cell_type": "code",
   "execution_count": 1,
   "id": "5ec41e24-95b4-4fbd-a49c-d92a71dd7d03",
   "metadata": {},
   "outputs": [],
   "source": [
    "# libraries\n",
    "import pandas as pd\n",
    "import numpy as np\n",
    "from os import listdir\n",
    "import matplotlib.pyplot as plt"
   ]
  },
  {
   "cell_type": "markdown",
   "id": "9b80d011-c876-41b7-a45e-bdbd2637bef2",
   "metadata": {},
   "source": [
    "## Cockburn (2022)"
   ]
  },
  {
   "cell_type": "markdown",
   "id": "cbf7a367-e9e7-4521-8d43-4a456ffb540f",
   "metadata": {},
   "source": [
    "After initial data exploration, the most appropriate datasets to replicate his paper are \"historical masterfile\" and \"patent examination research dataset\". The two datasets can be matched by application ID. \n",
    "\n",
    "- Historical masterfile contains information on publication number, patent number, NBER number, USPC number, application date, prior date, disposal date, application number, as well as other information. \n",
    "- Patent examination research dataset provides information on the parent country, foreign parent ID, foreign parent date and application number. "
   ]
  },
  {
   "cell_type": "code",
   "execution_count": 136,
   "id": "ffc6bb32-6df4-4ed7-ac72-c4b69e2545e7",
   "metadata": {},
   "outputs": [],
   "source": [
    "location = pd.read_csv(\"data/pg_location_not_disambiguated.tsv\", sep='\\t') "
   ]
  },
  {
   "cell_type": "code",
   "execution_count": 137,
   "id": "7840a37c-d29d-429f-8fab-76daa3d3b84d",
   "metadata": {},
   "outputs": [],
   "source": [
    "location = location[location['raw_country']==\"CA\"]"
   ]
  },
  {
   "cell_type": "code",
   "execution_count": 138,
   "id": "a93846c4-0c55-4d82-acb2-f0da2cc3a43b",
   "metadata": {},
   "outputs": [],
   "source": [
    "applicants = pd.read_csv(\"data/pg_inventor_not_disambiguated.tsv\", sep='\\t') "
   ]
  },
  {
   "cell_type": "code",
   "execution_count": 139,
   "id": "34243102-ca57-4cd1-ba4c-52e5f7039791",
   "metadata": {},
   "outputs": [],
   "source": [
    "applications = pd.read_csv(\"data/pg_published_application.tsv\", sep='\\t') "
   ]
  },
  {
   "cell_type": "code",
   "execution_count": null,
   "id": "af3680f8-3ab6-4ac0-bf05-3760cd18fa84",
   "metadata": {},
   "outputs": [],
   "source": [
    "data = pd.merge(location, applicants, on =[\"rawlocation_id\"])"
   ]
  },
  {
   "cell_type": "code",
   "execution_count": null,
   "id": "80f3024e-994e-494f-9980-9ec12d88d5ae",
   "metadata": {},
   "outputs": [],
   "source": [
    "location.head(1)"
   ]
  },
  {
   "cell_type": "code",
   "execution_count": null,
   "id": "4a9aabe3-8190-4f8d-b265-fd418c09a64b",
   "metadata": {},
   "outputs": [],
   "source": [
    "applicants.head(1)"
   ]
  },
  {
   "cell_type": "code",
   "execution_count": null,
   "id": "583479ec-0c55-45ee-8705-06401ff3d29c",
   "metadata": {},
   "outputs": [],
   "source": [
    "applications.head(1)"
   ]
  },
  {
   "cell_type": "code",
   "execution_count": null,
   "id": "4acc42a4-169f-4039-9dc8-cf970ae3c3a7",
   "metadata": {},
   "outputs": [],
   "source": [
    "data = pd.merge(location, applicants, on= [\"rawlocation_id\"])"
   ]
  },
  {
   "cell_type": "code",
   "execution_count": null,
   "id": "ac7aaed6-8406-40d5-9711-df648d5cfd2d",
   "metadata": {},
   "outputs": [],
   "source": [
    "data = data[[\"pgpub_id\", \"raw_country\"]]"
   ]
  },
  {
   "cell_type": "code",
   "execution_count": null,
   "id": "8b4011bf-cedd-498a-84b4-6f4c242e48c7",
   "metadata": {},
   "outputs": [],
   "source": [
    "data = pd.merge(data, applications, on = [\"pgpub_id\"])"
   ]
  },
  {
   "cell_type": "code",
   "execution_count": null,
   "id": "abd6838d-d0fc-4ede-b2f5-b2da6feaa51c",
   "metadata": {},
   "outputs": [],
   "source": [
    "data['filing_date'] = pd.to_datetime(data['filing_date'], errors='coerce')"
   ]
  },
  {
   "cell_type": "code",
   "execution_count": null,
   "id": "fe15755e-4668-48f6-8c4f-1a57078c74ca",
   "metadata": {},
   "outputs": [],
   "source": [
    "data = data[data['application_id'].notnull()]"
   ]
  },
  {
   "cell_type": "code",
   "execution_count": null,
   "id": "43b0de3a-5f83-43cf-a4f3-84792224f66d",
   "metadata": {},
   "outputs": [],
   "source": [
    "data[\"year\"] = data[\"filing_date\"].dt.year"
   ]
  },
  {
   "cell_type": "code",
   "execution_count": null,
   "id": "cda78c18-a03a-4563-9a4a-0e1f82753e22",
   "metadata": {},
   "outputs": [],
   "source": [
    "data = data[data[\"year\"]<2022]"
   ]
  },
  {
   "cell_type": "code",
   "execution_count": null,
   "id": "d7d03711-76eb-4dc1-8e3a-21f7af320abc",
   "metadata": {},
   "outputs": [],
   "source": [
    "data = data[data[\"year\"]>=1990]"
   ]
  },
  {
   "cell_type": "code",
   "execution_count": 129,
   "id": "9b5078d3-c060-47d8-81dc-0622435e668c",
   "metadata": {},
   "outputs": [],
   "source": [
    "#data = data.drop_duplicates(subset = [\"pgpub_id\"])"
   ]
  },
  {
   "cell_type": "code",
   "execution_count": 130,
   "id": "95195112-3bf1-465e-8bc4-5eb90a0964eb",
   "metadata": {},
   "outputs": [],
   "source": [
    "count_agg_year = data.groupby('year').size().reset_index(name='counts')"
   ]
  },
  {
   "cell_type": "code",
   "execution_count": 132,
   "id": "8d12392c-e1f8-449e-87f0-efd12f17a18f",
   "metadata": {},
   "outputs": [
    {
     "data": {
      "text/html": [
       "<div>\n",
       "<style scoped>\n",
       "    .dataframe tbody tr th:only-of-type {\n",
       "        vertical-align: middle;\n",
       "    }\n",
       "\n",
       "    .dataframe tbody tr th {\n",
       "        vertical-align: top;\n",
       "    }\n",
       "\n",
       "    .dataframe thead th {\n",
       "        text-align: right;\n",
       "    }\n",
       "</style>\n",
       "<table border=\"1\" class=\"dataframe\">\n",
       "  <thead>\n",
       "    <tr style=\"text-align: right;\">\n",
       "      <th></th>\n",
       "      <th>year</th>\n",
       "      <th>counts</th>\n",
       "    </tr>\n",
       "  </thead>\n",
       "  <tbody>\n",
       "    <tr>\n",
       "      <th>0</th>\n",
       "      <td>2001</td>\n",
       "      <td>1121</td>\n",
       "    </tr>\n",
       "    <tr>\n",
       "      <th>1</th>\n",
       "      <td>2002</td>\n",
       "      <td>5080</td>\n",
       "    </tr>\n",
       "    <tr>\n",
       "      <th>2</th>\n",
       "      <td>2003</td>\n",
       "      <td>6413</td>\n",
       "    </tr>\n",
       "    <tr>\n",
       "      <th>3</th>\n",
       "      <td>2004</td>\n",
       "      <td>7192</td>\n",
       "    </tr>\n",
       "    <tr>\n",
       "      <th>4</th>\n",
       "      <td>2005</td>\n",
       "      <td>7778</td>\n",
       "    </tr>\n",
       "    <tr>\n",
       "      <th>5</th>\n",
       "      <td>2006</td>\n",
       "      <td>7954</td>\n",
       "    </tr>\n",
       "    <tr>\n",
       "      <th>6</th>\n",
       "      <td>2007</td>\n",
       "      <td>8110</td>\n",
       "    </tr>\n",
       "    <tr>\n",
       "      <th>7</th>\n",
       "      <td>2008</td>\n",
       "      <td>9085</td>\n",
       "    </tr>\n",
       "    <tr>\n",
       "      <th>8</th>\n",
       "      <td>2009</td>\n",
       "      <td>8739</td>\n",
       "    </tr>\n",
       "    <tr>\n",
       "      <th>9</th>\n",
       "      <td>2010</td>\n",
       "      <td>8885</td>\n",
       "    </tr>\n",
       "    <tr>\n",
       "      <th>10</th>\n",
       "      <td>2011</td>\n",
       "      <td>9418</td>\n",
       "    </tr>\n",
       "    <tr>\n",
       "      <th>11</th>\n",
       "      <td>2012</td>\n",
       "      <td>9786</td>\n",
       "    </tr>\n",
       "    <tr>\n",
       "      <th>12</th>\n",
       "      <td>2013</td>\n",
       "      <td>10390</td>\n",
       "    </tr>\n",
       "    <tr>\n",
       "      <th>13</th>\n",
       "      <td>2014</td>\n",
       "      <td>10731</td>\n",
       "    </tr>\n",
       "    <tr>\n",
       "      <th>14</th>\n",
       "      <td>2015</td>\n",
       "      <td>10368</td>\n",
       "    </tr>\n",
       "    <tr>\n",
       "      <th>15</th>\n",
       "      <td>2016</td>\n",
       "      <td>10643</td>\n",
       "    </tr>\n",
       "    <tr>\n",
       "      <th>16</th>\n",
       "      <td>2017</td>\n",
       "      <td>10214</td>\n",
       "    </tr>\n",
       "    <tr>\n",
       "      <th>17</th>\n",
       "      <td>2018</td>\n",
       "      <td>10340</td>\n",
       "    </tr>\n",
       "    <tr>\n",
       "      <th>18</th>\n",
       "      <td>2019</td>\n",
       "      <td>10757</td>\n",
       "    </tr>\n",
       "    <tr>\n",
       "      <th>19</th>\n",
       "      <td>2020</td>\n",
       "      <td>11234</td>\n",
       "    </tr>\n",
       "    <tr>\n",
       "      <th>20</th>\n",
       "      <td>2021</td>\n",
       "      <td>10799</td>\n",
       "    </tr>\n",
       "  </tbody>\n",
       "</table>\n",
       "</div>"
      ],
      "text/plain": [
       "    year  counts\n",
       "0   2001    1121\n",
       "1   2002    5080\n",
       "2   2003    6413\n",
       "3   2004    7192\n",
       "4   2005    7778\n",
       "5   2006    7954\n",
       "6   2007    8110\n",
       "7   2008    9085\n",
       "8   2009    8739\n",
       "9   2010    8885\n",
       "10  2011    9418\n",
       "11  2012    9786\n",
       "12  2013   10390\n",
       "13  2014   10731\n",
       "14  2015   10368\n",
       "15  2016   10643\n",
       "16  2017   10214\n",
       "17  2018   10340\n",
       "18  2019   10757\n",
       "19  2020   11234\n",
       "20  2021   10799"
      ]
     },
     "execution_count": 132,
     "metadata": {},
     "output_type": "execute_result"
    }
   ],
   "source": [
    "count_agg_year"
   ]
  },
  {
   "cell_type": "code",
   "execution_count": 131,
   "id": "8657b075-548f-4790-9c17-f1dca56f0adc",
   "metadata": {},
   "outputs": [
    {
     "data": {
      "text/plain": [
       "<Axes: xlabel='year'>"
      ]
     },
     "execution_count": 131,
     "metadata": {},
     "output_type": "execute_result"
    },
    {
     "data": {
      "image/png": "[encoded data removed]",
      "text/plain": [
       "<Figure size 640x480 with 1 Axes>"
      ]
     },
     "metadata": {},
     "output_type": "display_data"
    }
   ],
   "source": [
    "count_agg_year.plot(x=\"year\")"
   ]
  }
 ],
 "metadata": {
  "kernelspec": {
   "display_name": "Python 3 (ipykernel)",
   "language": "python",
   "name": "python3"
  },
  "language_info": {
   "codemirror_mode": {
    "name": "ipython",
    "version": 3
   },
   "file_extension": ".py",
   "mimetype": "text/x-python",
   "name": "python",
   "nbconvert_exporter": "python",
   "pygments_lexer": "ipython3",
   "version": "3.12.4"
  }
 },
 "nbformat": 4,
 "nbformat_minor": 5
}
